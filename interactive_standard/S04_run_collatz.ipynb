{
  "cells": [
    {
      "cell_type": "code",
      "execution_count": null,
      "metadata": {
        "collapsed": false
      },
      "outputs": [],
      "source": [
        "%matplotlib inline"
      ]
    },
    {
      "cell_type": "markdown",
      "metadata": {},
      "source": [
        "\n# S04 - Collatz explorer - Standard precision\n\nThis is a simple template to explore the Collatz set with\na GUI (example of \"low-level API\" for GUI implementation).\nResolution limited to approx 1.e-13 due to double (float64) precision\n\nReference:\n`fractalshades.models.Collatz`\n"
      ]
    },
    {
      "cell_type": "code",
      "execution_count": null,
      "metadata": {
        "collapsed": false
      },
      "outputs": [],
      "source": [
        "import os\n\nimport numpy as np\n\nimport fractalshades as fs\nimport fractalshades.models as fsm\nimport fractalshades.settings as settings\nimport fractalshades.colors\nimport fractalshades.gui as fsgui\nfrom fractalshades.gui.guimodel import Fractal_GUI\n\nfrom fractalshades.postproc import (\n    Postproc_batch,\n    Raw_pp,\n)\nfrom fractalshades.colors.layers import (\n    Color_layer,\n    Bool_layer,\n)\n\n\ndef plot(plot_dir):\n    \"\"\"\n    Example of \"low-level API\" for GUI implementation\n    \"\"\"\n    calc_name = 'test'\n    x = 0.0\n    y = 0.0\n    dx = 8.\n    xy_ratio = 1.7777\n    theta_deg = 0.\n\n    max_iter = 1000\n    nx = 800\n    M_divergence = 1000.0\n    interior_color = (0.0, 0.0, 1.0)\n    colormap = fs.colors.cmap_register[\"classic\"]\n    zmin = 0.0\n    zmax = 0.5\n\n    # Set to True to enable multi-processing\n    settings.enable_multithreading = True\n    # Set to True in case RAM issue (Memory error)\n    settings.optimize_RAM = False\n    settings.inspect_calc = True\n\n    directory = plot_dir\n    fractal = fsm.Collatz(directory)\n    \n    def func(\n        fractal: fsm.Mandelbrot=fractal,\n        calc_name: str= calc_name,\n         _1: fsgui.separator=\"Zoom parameters\",\n         x: float= x,\n         y: float= y,\n         dx: float= dx,\n         xy_ratio: float=xy_ratio,\n         theta_deg: float=theta_deg,\n         _2: fsgui.separator=\"Calculation parameters\",\n         max_iter: int=max_iter,\n         nx: int=nx,\n         _3: fsgui.separator=\"Plotting parameters\",\n         M_divergence: float=M_divergence,\n         interior_color: fs.colors.Color=interior_color,\n         colormap: fs.colors.Fractal_colormap=colormap,\n         zmin: float=zmin,\n         zmax: float=zmax,\n         zshift: float=0.0\n    ):\n\n\n        fractal.zoom(x=x, y=y, dx=dx, nx=nx, xy_ratio=xy_ratio,\n             theta_deg=0., projection=\"cartesian\")\n\n        fractal.base_calc(\n            calc_name=calc_name,\n            subset=None,\n            max_iter=max_iter,\n            M_divergence=M_divergence,\n            epsilon_stationnary=1.e-4,\n        )\n\n        pp = Postproc_batch(fractal, calc_name)\n        pp.add_postproc(\"n_iter\", Raw_pp(\"stop_iter\", func=None))\n        pp.add_postproc(\"interior\", Raw_pp(\"stop_reason\",\n                        func=lambda x: x != 1))\n\n        plotter = fs.Fractal_plotter(pp)   \n        plotter.add_layer(Bool_layer(\"interior\", output=False))\n\n        plotter.add_layer(Color_layer(\n                \"n_iter\",\n                func=lambda x: np.log(x + 10.),\n                colormap=colormap,\n                probes_z=[zmin + zshift, zmax + zshift],\n                output=True))\n        plotter[\"n_iter\"].set_mask(\n            plotter[\"interior\"], mask_color=interior_color\n        )\n\n        plotter.plot()\n\n        # Renaming output to match expected from the Fractal GUI\n        layer = plotter[\"n_iter\"]\n        file_name = \"{}_{}\".format(type(layer).__name__, layer.postname)\n        src_path = os.path.join(fractal.directory, file_name + \".png\")\n        dest_path = os.path.join(fractal.directory, calc_name + \".png\")\n        if os.path.isfile(dest_path):\n            os.unlink(dest_path)\n        os.link(src_path, dest_path)\n\n\n    gui = Fractal_GUI(func)\n    gui.connect_image(image_param=\"calc_name\")\n    gui.connect_mouse(x=\"x\", y=\"y\", dx=\"dx\", xy_ratio=\"xy_ratio\", dps=None)\n    gui.show()\n\n\nif __name__ == \"__main__\":\n    # Some magic to get the directory for plotting: with a name that matches\n    # the file or a temporary dir if we are building the documentation\n    try:\n        realpath = os.path.realpath(__file__)\n        plot_dir = os.path.splitext(realpath)[0]\n        plot(plot_dir)\n    except NameError:\n        import tempfile\n        with tempfile.TemporaryDirectory() as plot_dir:\n            fs.utils.exec_no_output(plot, plot_dir)"
      ]
    }
  ],
  "metadata": {
    "kernelspec": {
      "display_name": "Python 3",
      "language": "python",
      "name": "python3"
    },
    "language_info": {
      "codemirror_mode": {
        "name": "ipython",
        "version": 3
      },
      "file_extension": ".py",
      "mimetype": "text/x-python",
      "name": "python",
      "nbconvert_exporter": "python",
      "pygments_lexer": "ipython3",
      "version": "3.10.9"
    }
  },
  "nbformat": 4,
  "nbformat_minor": 0
}