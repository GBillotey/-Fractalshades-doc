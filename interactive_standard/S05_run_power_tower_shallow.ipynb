{
  "cells": [
    {
      "cell_type": "code",
      "execution_count": null,
      "metadata": {
        "collapsed": false
      },
      "outputs": [],
      "source": [
        "%matplotlib inline"
      ]
    },
    {
      "cell_type": "markdown",
      "metadata": {},
      "source": [
        "\n# S05 - Tetration fractal explorer - Standard precision\n\nA template to explore the tetration fractal set (aka power-tower) with\nthe GUI (example of \"low-level API\" for GUI implementation).\nResolution limited to approx 1.e-13 due to double (float64) precision.\n\nColoring is based on the limit cycle order and attractivity. The influence of\nattractivity can be tuned with the `attr_strength` parameter\n\n\nReference:\n`fractalshades.models.Power_tower`\n"
      ]
    },
    {
      "cell_type": "code",
      "execution_count": null,
      "metadata": {
        "collapsed": false
      },
      "outputs": [],
      "source": [
        "import typing\nimport os\n\nimport numpy as np\n\nimport fractalshades as fs\nimport fractalshades.models as fsm\nimport fractalshades.settings as settings\nimport fractalshades.colors\nimport fractalshades.gui\nfrom fractalshades.gui.guimodel import Fractal_GUI\n\nfrom fractalshades.postproc import (\n    Postproc_batch,\n    Raw_pp,\n)\nfrom fractalshades.colors.layers import (\n    Color_layer,\n    Bool_layer,\n    Virtual_layer,\n)\n\n\ndef plot(plot_dir):\n    \"\"\"\n    Example interactive\n    \"\"\"\n    calc_name = 'test'\n\n    x = 0.0\n    y = -0.0\n    dx = 10.0\n    xy_ratio = 1.0\n    theta_deg=0.\n\n    compute_order = True\n    max_order = 100\n    nx = 800\n    eps_newton_cv = 1e-12\n    \n    colormap = fs.colors.cmap_register[\"classic\"]\n\n    zmin = 0.00\n    zmax = 0.25\n    attr_strength = 0.15\n\n    # Set to True to enable multi-processing\n    settings.enable_multiprocessing = True\n    # Set to True in case RAM issue (Memory error)\n    settings.optimize_RAM = False\n\n    directory = plot_dir\n    fractal = fsm.Power_tower(directory)\n    \n    def func(\n        fractal: fsm.Mandelbrot=fractal,\n         calc_name: str= calc_name,\n         _1: fs.gui.separator=\"Zoom parameters\",\n         x: float= x,\n         y: float= y,\n         dx: float= dx,\n         xy_ratio: float=xy_ratio,\n         theta_deg: float=theta_deg,\n         _2: fs.gui.separator=\"Calculation parameters\",\n         nx: int=nx,\n         compute_order: bool=compute_order,\n         max_order: int=max_order,\n         eps_newton_cv: float=eps_newton_cv,\n         _3: fs.gui.separator=\"Plotting parameters\",\n         interior_color: fs.colors.Color=(0.1, 0.1, 0.1),\n         colormap: fs.colors.Fractal_colormap=colormap,\n         cmap_z_kind: typing.Literal[\"relative\", \"absolute\"]=\"relative\",\n         zmin: float=zmin,\n         zmax: float=zmax,\n         zshift: float=0.0,\n         attr_strength: float =attr_strength,\n         _4: fs.gui.collapsible_separator=\"High-quality rendering options\",\n         final_render: bool=False,\n         supersampling: fs.core.supersampling_type = \"None\",\n         jitter: bool = False,\n         recovery_mode: bool = False,\n         \n    ):\n\n        fractal.zoom(x=x, y=y, dx=dx, nx=nx, xy_ratio=xy_ratio,\n             theta_deg=theta_deg, projection=\"cartesian\")\n\n        fractal.newton_calc(\n            calc_name=calc_name,\n            subset=None,\n            compute_order=compute_order,\n            max_order=max_order,\n            max_newton=20,\n            eps_newton_cv=eps_newton_cv\n        )\n\n\n        layer_name = \"cycle_order\"\n\n        pp = Postproc_batch(fractal, calc_name)\n        pp.add_postproc(layer_name, Raw_pp(\"order\"))\n        pp.add_postproc(\"attr\", Raw_pp(\"dzrdz\", func=lambda x: np.abs(x)))\n        pp.add_postproc(\"interior\", Raw_pp(\"stop_reason\",\n                        func=lambda x: x != 1)\n        )\n\n        plotter = fs.Fractal_plotter(\n            pp,\n            final_render=final_render,\n            supersampling=supersampling,\n            jitter=jitter,\n            recovery_mode=recovery_mode\n        )   \n        plotter.add_layer(Bool_layer(\"interior\", output=False))\n        plotter.add_layer(Color_layer(\n                layer_name,\n                func=lambda x: np.log(np.log(x + 1.) + 1.),\n                colormap=colormap,\n                probes_z=[zmin + zshift, zmax + zshift],\n                output=True))\n        plotter[layer_name].set_mask(plotter[\"interior\"],\n                                     mask_color=interior_color)\n        plotter.add_layer(Virtual_layer(\"attr\", func=None, output=False))\n        \n        plotter[layer_name].set_twin_field(plotter[\"attr\"], attr_strength)\n\n        plotter.plot()\n        \n        # Renaming output to match expected from the Fractal GUI\n        layer = plotter[layer_name]\n        file_name = \"{}_{}\".format(type(layer).__name__, layer.postname)\n        src_path = os.path.join(fractal.directory, file_name + \".png\")\n        dest_path = os.path.join(fractal.directory, calc_name + \".png\")\n        if os.path.isfile(dest_path):\n            os.unlink(dest_path)\n        os.link(src_path, dest_path)\n\n\n    gui = Fractal_GUI(func)\n    gui.connect_image(image_param=\"calc_name\")\n    gui.connect_mouse(dps=None)\n    gui.show()\n\n\nif __name__ == \"__main__\":\n    # Some magic to get the directory for plotting: with a name that matches\n    # the file or a temporary dir if we are building the documentation\n    try:\n        realpath = os.path.realpath(__file__)\n        plot_dir = os.path.splitext(realpath)[0]\n        plot(plot_dir)\n    except NameError:\n        import tempfile\n        with tempfile.TemporaryDirectory() as plot_dir:\n            fs.utils.exec_no_output(plot, plot_dir)"
      ]
    }
  ],
  "metadata": {
    "kernelspec": {
      "display_name": "Python 3",
      "language": "python",
      "name": "python3"
    },
    "language_info": {
      "codemirror_mode": {
        "name": "ipython",
        "version": 3
      },
      "file_extension": ".py",
      "mimetype": "text/x-python",
      "name": "python",
      "nbconvert_exporter": "python",
      "pygments_lexer": "ipython3",
      "version": "3.10.10"
    }
  },
  "nbformat": 4,
  "nbformat_minor": 0
}