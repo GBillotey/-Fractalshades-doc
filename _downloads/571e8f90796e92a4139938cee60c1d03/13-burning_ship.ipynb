{
  "cells": [
    {
      "cell_type": "code",
      "execution_count": null,
      "metadata": {
        "collapsed": false
      },
      "outputs": [],
      "source": [
        "%matplotlib inline"
      ]
    },
    {
      "cell_type": "markdown",
      "metadata": {},
      "source": [
        "\n# 13 - Burning ship DEM\n\nPlotting of a distance estimation for the Burning ship (power-2).\nThis zoom is on the structure which gave the fractal its name. We use an\narbitrary-precision model, even if this is obviously not needed here.\n\nReference:\n`fractalshades.models.Perturbation_burning_ship`\n"
      ]
    },
    {
      "cell_type": "code",
      "execution_count": null,
      "metadata": {
        "collapsed": false
      },
      "outputs": [],
      "source": [
        "import os\nimport numpy as np\n\nimport fractalshades as fs\nimport fractalshades.models as fsm\n\nimport fractalshades.colors as fscolors\nfrom fractalshades.postproc import (\n    Postproc_batch,\n    Continuous_iter_pp,\n    DEM_normal_pp,\n    DEM_pp,\n    Raw_pp,\n)\nfrom fractalshades.colors.layers import (\n    Color_layer,\n    Bool_layer,\n    Normal_map_layer,\n    Virtual_layer,\n    Blinn_lighting,\n)\n\n\ndef plot(plot_dir):\n    fs.settings.enable_multithreading = True\n    fs.settings.inspect_calc = True\n\n    # A simple showcase using perturbation technique\n    x = '-1.7579317963'\n    y = '0.052705991307'\n    dx = '0.181287312180757'\n    precision = 30\n    nx = 2400\n    xy_ratio = 1.0\n    \n    sign = 1.0\n    DEM_min = 1.e-4\n    zmin = -9.21034049987793\n    zmax = -0.3999025523662567\n    \n    # As this formula is non-analytic, we will 'unskew' based on the \n    # influencing miniship \"size estimate\" matrix.\n    has_skew = False\n    skew_00 = 1.0\n    skew_01 = 0.0\n    skew_10 = -0.1\n    skew_11 = 1.1\n\n    calc_name=\"Burning_ship\"\n    colormap = fscolors.cmap_register[\"classic\"]\n\n    # Run the calculation\n    f = fsm.Perturbation_burning_ship(plot_dir)\n\n    f.zoom(\n        precision=precision,\n        x=x,\n        y=y,\n        dx=dx,\n        nx=nx,\n        xy_ratio=xy_ratio,\n        theta_deg=0., \n        projection=\"cartesian\",\n        has_skew=has_skew,\n        skew_00=skew_00,\n        skew_01=skew_01,\n        skew_10=skew_10,\n        skew_11=skew_11\n    )\n\n    f.calc_std_div(\n        calc_name=calc_name,\n        subset=None,\n        max_iter=1500,\n        M_divergence=1.e3,\n        BLA_eps= 1.e-6,\n    )\n\n\n    # Plot the image\n    pp = Postproc_batch(f, calc_name)\n    pp.add_postproc(\"continuous_iter\", Continuous_iter_pp())\n    pp.add_postproc(\"distance_estimation\", DEM_pp())\n    pp.add_postproc(\"interior\", Raw_pp(\"stop_reason\", func=\"x != 1.\"))\n    pp.add_postproc(\"DEM_map\", DEM_normal_pp(kind=\"potential\"))\n\n    plotter = fs.Fractal_plotter(pp)   \n    plotter.add_layer(Bool_layer(\"interior\", output=False))\n    plotter.add_layer(Normal_map_layer(\"DEM_map\", max_slope=30, output=False))\n    plotter.add_layer(\n        Virtual_layer(\"continuous_iter\", func=None, output=False)\n    )\n    \n    cmap_func = lambda x: sign * np.where(\n       np.isinf(x),\n       np.log(DEM_min),\n       np.log(np.clip(x, DEM_min, None))\n    )\n    plotter.add_layer(Color_layer(\n            \"distance_estimation\",\n            func=cmap_func,\n            colormap=colormap,\n            probes_z=[zmin, zmax],\n            output=True\n    ))\n\n    plotter[\"distance_estimation\"].set_mask(plotter[\"interior\"], mask_color=(0., 0., 0.))\n    plotter[\"DEM_map\"].set_mask(plotter[\"interior\"], mask_color=(0., 0., 0.))\n\n    # This is where we define the lighting (here 2 ccolored light sources)\n    # and apply the shading\n    light = Blinn_lighting(0.4, np.array([1., 1., 1.]))\n    light.add_light_source(\n        k_diffuse=0.2,\n        k_specular=300.,\n        shininess=1400.,\n        polar_angle=45.,\n        azimuth_angle=10.,\n        color=np.array([1.0, 1.0, 0.98]))\n    light.add_light_source(\n        k_diffuse=0.8,\n        k_specular=2.,\n        shininess=400.,\n        polar_angle=45.,\n        azimuth_angle=10.,\n        color=np.array([1., 1., 1.]))\n    plotter[\"distance_estimation\"].shade(plotter[\"DEM_map\"], light)\n\n    plotter.plot()\n\n\nif __name__ == \"__main__\":\n    # Some magic to get the directory for plotting: with a name that matches\n    # the file or a temporary dir if we are building the documentation\n    try:\n        realpath = os.path.realpath(__file__)\n        plot_dir = os.path.splitext(realpath)[0]\n        plot(plot_dir)\n    except NameError:\n        import tempfile\n        with tempfile.TemporaryDirectory() as plot_dir:\n            fs.utils.exec_no_output(plot, plot_dir)"
      ]
    }
  ],
  "metadata": {
    "kernelspec": {
      "display_name": "Python 3",
      "language": "python",
      "name": "python3"
    },
    "language_info": {
      "codemirror_mode": {
        "name": "ipython",
        "version": 3
      },
      "file_extension": ".py",
      "mimetype": "text/x-python",
      "name": "python",
      "nbconvert_exporter": "python",
      "pygments_lexer": "ipython3",
      "version": "3.10.9"
    }
  },
  "nbformat": 4,
  "nbformat_minor": 0
}