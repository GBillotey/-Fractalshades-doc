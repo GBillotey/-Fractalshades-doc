{
  "cells": [
    {
      "cell_type": "code",
      "execution_count": null,
      "metadata": {
        "collapsed": false
      },
      "outputs": [],
      "source": [
        "%matplotlib inline"
      ]
    },
    {
      "cell_type": "markdown",
      "metadata": {},
      "source": [
        "\n# D04 - Shark Fin arbitrary-precision explorer\n\nThis is a template to explore the \"Shark Fin\" set with\narbitrary precision through a GUI.\nIt features the main postprocessing options (continuous\niteration, distance estimation based shading)\n\nAs it is a non-holomorphic fractal, some areas can exibit a heavy\nskew. This explorer allows you to use an unskewing matrice and continue\nthe exploration.\nA suitable  unskew matrice is usually given by the influencing minibrot, which\nyou can get via a Newton search : right click on the image and \nselect \"Newton search\".\nWhen the skew parameters are changed, hit \"rerun\" to continue the exploration.\n\nGood exploration !\n\nReference:\n`fractalshades.models.Perturbation_shark_fin`\n"
      ]
    },
    {
      "cell_type": "code",
      "execution_count": null,
      "metadata": {
        "collapsed": false
      },
      "outputs": [],
      "source": [
        "import typing\nimport os\n\nimport numpy as np\nfrom PyQt6 import QtGui\n\nimport fractalshades as fs\nimport fractalshades.models as fsm\nimport fractalshades.settings as settings\nimport fractalshades.colors as fscolors\nimport fractalshades.gui as fsgui\n\nfrom fractalshades.postproc import (\n    Postproc_batch,\n    Continuous_iter_pp,\n    DEM_pp,\n    DEM_normal_pp,\n    Raw_pp,\n)\nfrom fractalshades.colors.layers import (\n    Color_layer,\n    Bool_layer,\n    Normal_map_layer,\n    Virtual_layer,\n    Blinn_lighting\n)\n\n\ndef plot(plot_dir):\n    \"\"\"\n    Example interactive\n    \"\"\"\n    import mpmath\n\n    x = '-0.5'\n    y = '0.0'\n    dx = '5.0'\n    calc_name = 'test'\n    \n    xy_ratio = 1.0\n    dps = 16\n    max_iter = 5000\n    nx = 800\n    theta_deg = 0.\n    has_skew = False\n    eps = 1.e-6\n\n    base_layer = \"continuous_iter\"\n    colormap = fscolors.cmap_register[\"classic\"]\n    cmap_z_kind = \"relative\"\n    zmin = 0.3\n    zmax = 0.6\n    \n    shade_kind=\"glossy\"\n\n    # Set to True to enable multi-threading\n    settings.enable_multithreading = True\n\n    directory = plot_dir\n    fractal = fsm.Perturbation_shark_fin(directory)\n\n    def func(\n        fractal: fsm.Perturbation_shark_fin=fractal,\n         calc_name: str=calc_name,\n\n         _1: fsgui.separator=\"Zoom parameters\",\n         x: mpmath.mpf=x,\n         y: mpmath.mpf=y,\n         dx: mpmath.mpf=dx,\n         xy_ratio: float=xy_ratio,\n         theta_deg: float=theta_deg,\n         dps: int=dps,\n         nx: int=nx,\n\n         _1b: fsgui.separator=\"Skew parameters /!\\ Re-run when modified!\",\n         has_skew: bool=has_skew,\n         skew_00: float=1.,\n         skew_01: float=0.,\n         skew_10: float=0.,\n         skew_11: float=1.,\n\n         _2: fsgui.separator=\"Calculation parameters\",\n         max_iter: int=max_iter,\n\n         _3: fsgui.separator=\"Bilinear series parameters\",\n         eps: float=eps,\n\n         _4: fsgui.separator=\"Plotting parameters: base field\",\n         base_layer: typing.Literal[\n                 \"continuous_iter\",\n                 \"distance_estimation\"\n         ]=base_layer,\n         interior_color: QtGui.QColor=(0.1, 0.1, 0.1),\n         colormap: fscolors.Fractal_colormap=colormap,\n         invert_cmap: bool=False,\n         DEM_min: float=1.e-6,\n         cmap_z_kind: typing.Literal[\"relative\", \"absolute\"]=cmap_z_kind,\n         zmin: float=zmin,\n         zmax: float=zmax,\n\n         _5: fsgui.separator=\"Plotting parameters: shading\",\n         shade_kind: typing.Literal[\"None\", \"standard\", \"glossy\"]=shade_kind,\n         gloss_intensity: float=10.,\n         light_angle_deg: float=65.,\n         light_color: QtGui.QColor=(1.0, 1.0, 1.0),\n         gloss_light_color: QtGui.QColor=(1.0, 1.0, 1.0),\n    ):\n\n\n        fractal.zoom(precision=dps, x=x, y=y, dx=dx, nx=nx, xy_ratio=xy_ratio,\n             theta_deg=theta_deg, projection=\"cartesian\", antialiasing=False,\n             has_skew=has_skew, skew_00=skew_00, skew_01=skew_01,\n             skew_10=skew_10, skew_11=skew_11\n        )\n\n        fractal.calc_std_div(\n            calc_name=calc_name,\n            subset=None,\n            max_iter=max_iter,\n            M_divergence=1.e70,\n            BLA_params={\"eps\": eps},\n        )\n\n        if fractal.res_available():\n            print(\"RES AVAILABLE, no compute\")\n        else:\n            print(\"RES NOT AVAILABLE, clean-up\")\n            fractal.clean_up(calc_name)\n\n        fractal.run()\n\n        pp = Postproc_batch(fractal, calc_name)\n        \n        if base_layer == \"continuous_iter\":\n            pp.add_postproc(base_layer, Continuous_iter_pp())\n        elif base_layer == \"distance_estimation\":\n            pp.add_postproc(\"continuous_iter\", Continuous_iter_pp())\n            pp.add_postproc(base_layer, DEM_pp())\n\n        pp.add_postproc(\"interior\", Raw_pp(\"stop_reason\",\n                        func=lambda x: x != 1))\n        if shade_kind != \"None\":\n            pp.add_postproc(\"DEM_map\", DEM_normal_pp(kind=\"potential\"))\n\n        plotter = fs.Fractal_plotter(pp)   \n        plotter.add_layer(Bool_layer(\"interior\", output=False))\n\n        if shade_kind != \"None\":\n            plotter.add_layer(Normal_map_layer(\n                \"DEM_map\", max_slope=60, output=True\n            ))\n\n        if base_layer != 'continuous_iter':\n            plotter.add_layer(\n                Virtual_layer(\"continuous_iter\", func=None, output=False)\n            )\n\n        sign = {False: 1., True: -1.}[invert_cmap]\n        if base_layer == 'distance_estimation':\n            cmap_func = lambda x: sign * np.where(\n               np.isinf(x),\n               np.log(DEM_min),\n               np.log(np.clip(x, DEM_min, None))\n            )\n        else:\n            cmap_func = lambda x: sign * np.log(x)\n\n        plotter.add_layer(Color_layer(\n                base_layer,\n                func=cmap_func,\n                colormap=colormap,\n                probes_z=[zmin, zmax],\n                probes_kind=cmap_z_kind,\n                output=True))\n        plotter[base_layer].set_mask(\n            plotter[\"interior\"], mask_color=interior_color\n        )\n        if shade_kind != \"None\":\n            light = Blinn_lighting(0.6, np.array([1., 1., 1.]))\n            light.add_light_source(\n                k_diffuse=0.8,\n                k_specular=.0,\n                shininess=350.,\n                angles=(light_angle_deg, 20.),\n                coords=None,\n                color=np.array(light_color))\n\n            if shade_kind == \"glossy\":\n                light.add_light_source(\n                    k_diffuse=0.2,\n                    k_specular=gloss_intensity,\n                    shininess=40.,\n                    angles=(light_angle_deg, 20.),\n                    coords=None,\n                    color=np.array(gloss_light_color))\n\n            plotter[base_layer].shade(plotter[\"DEM_map\"], light)\n\n        plotter.plot()\n\n        # Renaming output to match expected from the Fractal GUI\n        layer = plotter[base_layer]\n        file_name = \"{}_{}\".format(type(layer).__name__, layer.postname)\n        src_path = os.path.join(fractal.directory, file_name + \".png\")\n        dest_path = os.path.join(fractal.directory, calc_name + \".png\")\n        if os.path.isfile(dest_path):\n            os.unlink(dest_path)\n        os.link(src_path, dest_path)\n\n\n    gui = fsgui.Fractal_GUI(func)\n    gui.connect_image(image_param=\"calc_name\")\n    gui.connect_mouse(\n        x=\"x\", y=\"y\", dx=\"dx\", xy_ratio=\"xy_ratio\", dps=\"dps\",\n        has_skew=\"has_skew\", skew_00=\"skew_00\", skew_01=\"skew_01\",\n        skew_10=\"skew_10\", skew_11=\"skew_11\"\n    )\n    gui.show()\n\n\nif __name__ == \"__main__\":\n    # Some magic to get the directory for plotting: with a name that matches\n    # the file or a temporary dir if we are building the documentation\n    try:\n        realpath = os.path.realpath(__file__)\n        plot_dir = os.path.splitext(realpath)[0]\n        plot(plot_dir)\n    except NameError:\n        import tempfile\n        with tempfile.TemporaryDirectory() as plot_dir:\n            fs.utils.exec_no_output(plot, plot_dir)"
      ]
    }
  ],
  "metadata": {
    "kernelspec": {
      "display_name": "Python 3",
      "language": "python",
      "name": "python3"
    },
    "language_info": {
      "codemirror_mode": {
        "name": "ipython",
        "version": 3
      },
      "file_extension": ".py",
      "mimetype": "text/x-python",
      "name": "python",
      "nbconvert_exporter": "python",
      "pygments_lexer": "ipython3",
      "version": "3.10.5"
    }
  },
  "nbformat": 4,
  "nbformat_minor": 0
}