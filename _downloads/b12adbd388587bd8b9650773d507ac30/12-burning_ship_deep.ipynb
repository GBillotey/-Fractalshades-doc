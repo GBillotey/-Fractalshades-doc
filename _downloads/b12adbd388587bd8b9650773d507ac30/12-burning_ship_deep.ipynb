{
  "cells": [
    {
      "cell_type": "code",
      "execution_count": null,
      "metadata": {
        "collapsed": false
      },
      "outputs": [],
      "source": [
        "%matplotlib inline"
      ]
    },
    {
      "cell_type": "markdown",
      "metadata": {},
      "source": [
        "\n# 12 - Burning Ship deep zoom\n\nExample plot of a deep-zoom inside the Burning Ship set (power-2).\n\nLike the Mandelbrot set, this set features \"mini-ships\", which are\nsmaller copies of the whole. The zoom proposed here displays the inner\ndecoration around a deep miniship (period 9622, size 3.40e-265).\n\nReference:\n`fractalshades.models.Perturbation_burning_ship`\n"
      ]
    },
    {
      "cell_type": "code",
      "execution_count": null,
      "metadata": {
        "collapsed": false
      },
      "outputs": [],
      "source": [
        "import os\nimport numpy as np\n\nimport fractalshades as fs\nimport fractalshades.models as fsm\n\nimport fractalshades.colors as fscolors\nfrom fractalshades.postproc import (\n    Postproc_batch,\n    Continuous_iter_pp,\n    DEM_normal_pp,\n    Raw_pp,\n)\nfrom fractalshades.colors.layers import (\n    Color_layer,\n    Bool_layer,\n    Normal_map_layer,\n    Blinn_lighting,\n)\n\n\ndef plot(plot_dir):\n    fs.settings.enable_multithreading = True\n    fs.settings.inspect_calc = True\n\n    # A simple showcase using perturbation technique\n    x = \"-1.996381122925929653294037828311253469966641852551354028279745849996384561656543300231734846372389200884473400326047402259215365299651000049307967220797174220920308250039037884064184875313550754352410343246674089430454249309097057276774162871180276065193880170743903875782\"\n    y = \"0.000004763303728392770746014692362029865866711691612095974571331721507794709607604050981467065736920676037481378828276642944072069756835182953451109905077881061139887661561617020726899218853890425452233104923366681895875677542245236396274857406762304353824848557938906613374564\"\n    dx = \"1.207782640899473e-261\"\n    precision = 271\n    nx = 2400\n    xy_ratio = 1.8\n    \n    # As this formula is non-analytic, we will 'unskew' based on the \n    # influencing miniship \"size estimate\" matrix.\n    has_skew = True\n    skew_00 = 0.659275816850581\n    skew_01 = -0.5484220094485625\n    skew_10 = 0.25710339801865756\n    skew_11 = 1.3029430412388974\n\n    calc_name=\"Burning_ship\"\n    colormap = fscolors.cmap_register[\"peacock\"]\n    colormap.clip = \"repeat\"\n\n    # Run the calculation\n    f = fsm.Perturbation_burning_ship(plot_dir)\n\n    f.zoom(\n        precision=precision,\n        x=x,\n        y=y,\n        dx=dx,\n        nx=nx,\n        xy_ratio=xy_ratio,\n        theta_deg=0., \n        projection=\"cartesian\",\n        has_skew=has_skew,\n        skew_00=skew_00,\n        skew_01=skew_01,\n        skew_10=skew_10,\n        skew_11=skew_11\n    )\n\n    f.calc_std_div(\n        calc_name=calc_name,\n        subset=None,\n        max_iter=150000,\n        M_divergence=1.e3,\n        BLA_eps= 1.e-6,\n        calc_hessian=True\n    )\n\n    # Plot the image\n    pp = Postproc_batch(f, calc_name)\n    pp.add_postproc(\"cont_iter\", Continuous_iter_pp())\n    pp.add_postproc(\"interior\", Raw_pp(\"stop_reason\", func=\"x != 1.\"))\n    pp.add_postproc(\"DEM_map\", DEM_normal_pp(kind=\"potential\"))\n\n    plotter = fs.Fractal_plotter(pp)   \n    plotter.add_layer(Bool_layer(\"interior\", output=False))\n    plotter.add_layer(Normal_map_layer(\"DEM_map\", max_slope=40, output=False))\n    plotter.add_layer(Color_layer(\n            \"cont_iter\",\n            func=lambda x: np.log(x),\n            colormap=colormap,\n            probes_z=[10.975318, 10.977222],\n            output=True\n    ))\n\n    plotter[\"cont_iter\"].set_mask(plotter[\"interior\"], mask_color=(0., 0., 0.))\n    plotter[\"DEM_map\"].set_mask(plotter[\"interior\"], mask_color=(0., 0., 0.))\n\n    # This is where we define the lighting (here 2 ccolored light sources)\n    # and apply the shading\n    light = Blinn_lighting(0.4, np.array([1., 1., 1.]))\n    light.add_light_source(\n        k_diffuse=0.2,\n        k_specular=30.,\n        shininess=400.,\n        polar_angle=0.,\n        azimuth_angle=10.,\n        color=np.array([1.0, 1.0, 0.95]))\n    light.add_light_source(\n        k_diffuse=0.8,\n        k_specular=0.,\n        shininess=400.,\n        polar_angle=0.,\n        azimuth_angle=10.,\n        color=np.array([1., 1., 1.]))\n    plotter[\"cont_iter\"].shade(plotter[\"DEM_map\"], light)\n\n    plotter.plot()\n\n\nif __name__ == \"__main__\":\n    # Some magic to get the directory for plotting: with a name that matches\n    # the file or a temporary dir if we are building the documentation\n    try:\n        realpath = os.path.realpath(__file__)\n        plot_dir = os.path.splitext(realpath)[0]\n        plot(plot_dir)\n    except NameError:\n        import tempfile\n        with tempfile.TemporaryDirectory() as plot_dir:\n            fs.utils.exec_no_output(plot, plot_dir)"
      ]
    }
  ],
  "metadata": {
    "kernelspec": {
      "display_name": "Python 3",
      "language": "python",
      "name": "python3"
    },
    "language_info": {
      "codemirror_mode": {
        "name": "ipython",
        "version": 3
      },
      "file_extension": ".py",
      "mimetype": "text/x-python",
      "name": "python",
      "nbconvert_exporter": "python",
      "pygments_lexer": "ipython3",
      "version": "3.10.9"
    }
  },
  "nbformat": 4,
  "nbformat_minor": 0
}