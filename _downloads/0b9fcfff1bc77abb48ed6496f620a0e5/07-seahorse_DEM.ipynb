{
  "cells": [
    {
      "cell_type": "markdown",
      "metadata": {},
      "source": [
        "\n# 07 - Seahorse DEM example\n\nThis example shows how to create a color layer, displaying the \ndistance estimation for Mandelbrot (power 2) fractal.\n\nThe location is a shallow one in the main Seahorse valley.\n\nReference:\n`fractalshades.models.Mandelbrot`\n"
      ]
    },
    {
      "cell_type": "code",
      "execution_count": null,
      "metadata": {
        "collapsed": false
      },
      "outputs": [],
      "source": [
        "import os\n\nimport fractalshades as fs\nimport fractalshades.models as fsm\nimport fractalshades.colors as fscolors\nfrom fractalshades.postproc import (\n    Postproc_batch,\n    DEM_pp,\n    Continuous_iter_pp,\n    Raw_pp,\n)\nfrom fractalshades.colors.layers import (\n    Color_layer,\n    Bool_layer,\n    Virtual_layer,\n)\n\ndef plot(plot_dir):\n    \"\"\"\n    A very simple example: full view of the Mandelbrot set with escape-time\n    coloring\n    \"\"\"\n    fs.settings.enable_multithreading = True\n    fs.settings.log_directory = os.path.join(plot_dir, \"log\")\n    fs.set_log_handlers(verbosity=\"debug @ console + log\")\n\n    # Define the parameters for this calculation\n    x = -0.746223962861\n    y = -0.0959468433527\n    dx = 0.00745\n    nx = 2400\n    projection = fs.projection.Cartesian()\n\n    calc_name=\"mandelbrot\"\n    colormap = fscolors.cmap_register[\"valensole\"]\n\n    # Run the calculation\n    f = fsm.Mandelbrot(plot_dir)\n    f.zoom(x=x, y=y, dx=dx, nx=nx, xy_ratio=1.0,\n           theta_deg=0., projection=projection)\n    f.calc_std_div(\n        calc_name=calc_name,\n        subset=None,\n        max_iter=20000,\n        M_divergence=100.,\n        epsilon_stationnary= 0.005,\n    )\n\n    # Plot the image\n    pp = Postproc_batch(f, calc_name)\n    pp.add_postproc(\"cont_iter\", Continuous_iter_pp())\n    pp.add_postproc(\"DEM\", DEM_pp())\n    pp.add_postproc(\"interior\", Raw_pp(\"stop_reason\", func=\"x != 1.\"))\n\n    plotter = fs.Fractal_plotter(pp)\n    plotter.add_layer(Bool_layer(\"interior\", output=False))\n    \n    plotter.add_layer(Virtual_layer(\"cont_iter\", func=None, output=False))\n    plotter.add_layer(Color_layer(\n            \"DEM\",\n            func=\"np.log(x + 1e-8)\",\n            colormap=colormap,\n            probes_z=[19.5, 40.],\n            output=True\n    ))\n\n    plotter[\"DEM\"].set_mask(\n            plotter[\"interior\"],\n            mask_color=(0., 0., 0.)\n    )\n    \n    plotter.plot()\n\n\nif __name__ == \"__main__\":\n    # Some magic to get the directory for plotting: with a name that matches\n    # the file or a temporary dir if we are building the documentation\n    try:\n        realpath = os.path.realpath(__file__)\n        plot_dir = os.path.splitext(realpath)[0]\n        plot(plot_dir)\n    except NameError:\n        import tempfile\n        with tempfile.TemporaryDirectory() as plot_dir:\n            fs.utils.exec_no_output(plot, plot_dir)"
      ]
    }
  ],
  "metadata": {
    "kernelspec": {
      "display_name": "Python 3",
      "language": "python",
      "name": "python3"
    },
    "language_info": {
      "codemirror_mode": {
        "name": "ipython",
        "version": 3
      },
      "file_extension": ".py",
      "mimetype": "text/x-python",
      "name": "python",
      "nbconvert_exporter": "python",
      "pygments_lexer": "ipython3",
      "version": "3.10.12"
    }
  },
  "nbformat": 4,
  "nbformat_minor": 0
}