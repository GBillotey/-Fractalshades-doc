{
  "cells": [
    {
      "cell_type": "code",
      "execution_count": null,
      "metadata": {
        "collapsed": false
      },
      "outputs": [],
      "source": [
        "%matplotlib inline"
      ]
    },
    {
      "cell_type": "markdown",
      "metadata": {},
      "source": [
        "\n# 22 - \"Shark Fin\" escape-time fractal\n\nShark Fin is yet another `abs` variant, which features characteristic swirly\nstructures.\nHere, an embeded Julia set at a depth of 4.73e-709\n\nReference:\n`fractalshades.models.Perturbation_shark_fin`\n"
      ]
    },
    {
      "cell_type": "code",
      "execution_count": null,
      "metadata": {
        "collapsed": false
      },
      "outputs": [],
      "source": [
        "import os\nimport typing\n\nimport numpy as np\nimport mpmath\n\nimport fractalshades as fs\nimport fractalshades.models as fsm\nimport fractalshades.gui as fsgui\nimport fractalshades.colors as fscolors\n\nfrom fractalshades.postproc import (\n    Postproc_batch,\n    Continuous_iter_pp,\n    DEM_normal_pp,\n    DEM_pp,\n    Raw_pp,\n)\nfrom fractalshades.colors.layers import (\n    Color_layer,\n    Bool_layer,\n    Normal_map_layer,\n    Virtual_layer,\n    Blinn_lighting,\n)\n\ndef plot(plot_dir):\n\n    #>>>>>>>>>>>>>>>>>>>>>>>>>>>>>>>>>>>>>>>>>>>>>>>>>>>>>>>>>>>>>>>>>>>>>>>>>>\n    # Parameters\n    #>>>>>>>>>>>>>>>>>>>>>>>>>>>>>>>>>>>>>>>>>>>>>>>>>>>>>>>>>>>>>>>>>>>>>>>>>>\n    fractal = fsm.Perturbation_burning_ship(\n            plot_dir,\n            flavor=\"Shark fin\"\n    )\n    calc_name = 'test'\n    _1 = 'Zoom parameters'\n    x = '-0.51589620268627970432443972140466026618218061060835255763287480145041290920221218736270428245220746279618295095166798752620726428609211826274613117053264928657361477467234927967848753770166731064805065463419553477373233269591169614800220483380564022654439634169986994659158374011085207126571652818183508697495230387717223608030522514636708124947753134519935604246289612244797927127587933109583025775968223378485067259810292595540274443866416810747689111293571346662942340520825497910806468006677501978335474464494846513169232172970646598024886328933772273261902456292147592478159136755604313683591557546924552731872428993587388001253830610215019930920128066319351540606478859235188128959774129483187488417147576690962535'\n    y = '-0.66245287866929999372606685018770977042741695086446507741696933368387025939056546346094155505184636005256929748124385822155668880701474708417984582422272710613772844669490417841138223472001735816407958513797076939299186620556823065549014718232791996093184517670844492605187891162197307252314413279558393819847771389763599825046453903796922405420550932465191160133017417295941396971611900071562514890047201047120102195410731923629108732235286316679314710301128526293690085499066374212739634013484802464773762266855871308625831096062738587245346740647723535571648059438999329620958795738080623529817798169870967107413952074751872860339286384952167472237089529593701827385040502112441301761365329882413960477126592518217051'\n    dx = '4.730268188484633e-709'\n    \n    xy_ratio = 1.8\n    theta_deg = 180.0\n    dps = 719\n    nx = 2400\n    _1b = 'Skew parameters /!\\\\ Re-run when modified!'\n    has_skew = True\n    skew_00 = 1.2082219388541917\n    skew_01 = 0.30450938998799054\n    skew_10 = -0.24552000996844184\n    skew_11 = 0.7657838529335976\n    _2 = 'Calculation parameters'\n    max_iter = 400000\n    _3 = 'Bilinear series parameters'\n    eps = 1e-06\n    _4 = 'Plotting parameters: base field'\n    base_layer = 'continuous_iter'\n    interior_color = (0.3333333432674408, 1.0, 0.49803921580314636)\n    colormap = fs.colors.cmap_register[\"classic\"]\n    invert_cmap = True\n    DEM_min = 1e-10\n    zmin = 0.8 * (-12.720348358154297) + 0.2 * (-12.7184476852417)\n    zmax = -12.7184476852417\n    _5 = 'Plotting parameters: shading'\n    shade_kind = 'glossy'\n    gloss_intensity = 10.0\n    light_angle_deg = -135.0\n    light_color = (1.0, 1.0, 1.0)\n    gloss_light_color = (1.0, 1.0, 1.0)\n\n    #>>>>>>>>>>>>>>>>>>>>>>>>>>>>>>>>>>>>>>>>>>>>>>>>>>>>>>>>>>>>>>>>>>>>>>>>>>\n    # Plotting function\n    #>>>>>>>>>>>>>>>>>>>>>>>>>>>>>>>>>>>>>>>>>>>>>>>>>>>>>>>>>>>>>>>>>>>>>>>>>>\n    def func(\n         fractal,\n         calc_name: str=calc_name,\n\n         _1: fsgui.separator=\"Zoom parameters\",\n         x: mpmath.mpf=x,\n         y: mpmath.mpf=y,\n         dx: mpmath.mpf=dx,\n         xy_ratio: float=xy_ratio,\n         theta_deg: float=theta_deg,\n         dps: int=dps,\n         nx: int=nx,\n\n         _1b: fsgui.separator=\"Skew parameters /!\\ Re-run when modified!\",\n         has_skew: bool=has_skew,\n         skew_00: float=1.,\n         skew_01: float=0.,\n         skew_10: float=0.,\n         skew_11: float=1.,\n\n         _2: fsgui.separator=\"Calculation parameters\",\n         max_iter: int=max_iter,\n\n         _3: fsgui.separator=\"Bilinear series parameters\",\n         eps: float=eps,\n\n         _4: fsgui.separator=\"Plotting parameters: base field\",\n         base_layer: typing.Literal[\n                 \"continuous_iter\",\n                 \"distance_estimation\"\n         ]=base_layer,\n         interior_color=(0.1, 0.1, 0.1),\n         colormap: fscolors.Fractal_colormap=colormap,\n         invert_cmap: bool=False,\n         DEM_min: float=1.e-6,\n         zmin: float=zmin,\n         zmax: float=zmax,\n\n         _5: fsgui.separator=\"Plotting parameters: shading\",\n         shade_kind: typing.Literal[\"None\", \"standard\", \"glossy\"]=shade_kind,\n         gloss_intensity: float=10.,\n         light_angle_deg: float=65.,\n         light_color=(1.0, 1.0, 1.0),\n         gloss_light_color=(1.0, 1.0, 1.0),\n    ):\n\n\n        fractal.zoom(precision=dps, x=x, y=y, dx=dx, nx=nx, xy_ratio=xy_ratio,\n             theta_deg=theta_deg, projection=\"cartesian\",\n             has_skew=has_skew, skew_00=skew_00, skew_01=skew_01,\n             skew_10=skew_10, skew_11=skew_11\n        )\n\n        fractal.calc_std_div(\n            calc_name=calc_name,\n            subset=None,\n            max_iter=max_iter,\n            M_divergence=1.e70,\n            BLA_eps=eps,\n        )\n\n        pp = Postproc_batch(fractal, calc_name)\n        \n        if base_layer == \"continuous_iter\":\n            pp.add_postproc(base_layer, Continuous_iter_pp())\n        elif base_layer == \"distance_estimation\":\n            pp.add_postproc(\"continuous_iter\", Continuous_iter_pp())\n            pp.add_postproc(base_layer, DEM_pp())\n\n        pp.add_postproc(\"interior\", Raw_pp(\"stop_reason\",\n                        func=lambda x: x != 1))\n        if shade_kind != \"None\":\n            pp.add_postproc(\"DEM_map\", DEM_normal_pp(kind=\"potential\"))\n\n        plotter = fs.Fractal_plotter(pp)   \n        plotter.add_layer(Bool_layer(\"interior\", output=False))\n\n        if shade_kind != \"None\":\n            plotter.add_layer(Normal_map_layer(\n                \"DEM_map\", max_slope=40, output=False\n            ))\n\n        if base_layer != 'continuous_iter':\n            plotter.add_layer(\n                Virtual_layer(\"continuous_iter\", func=None, output=False)\n            )\n\n        sign = {False: 1., True: -1.}[invert_cmap]\n        if base_layer == 'distance_estimation':\n            cmap_func = lambda x: sign * np.where(\n               np.isinf(x),\n               np.log(DEM_min),\n               np.log(np.clip(x, DEM_min, None))\n            )\n        else:\n            cmap_func = lambda x: sign * np.log(x)\n\n        plotter.add_layer(Color_layer(\n                base_layer,\n                func=cmap_func,\n                colormap=colormap,\n                probes_z=[zmin, zmax],\n                output=True))\n        plotter[base_layer].set_mask(\n            plotter[\"interior\"], mask_color=interior_color\n        )\n        if shade_kind != \"None\":\n            light = Blinn_lighting(0.6, np.array([1., 1., 1.]))\n            light.add_light_source(\n                k_diffuse=0.8,\n                k_specular=.0,\n                shininess=350.,\n                polar_angle=light_angle_deg,\n                azimuth_angle=10.,\n                color=np.array(light_color))\n    \n            if shade_kind == \"glossy\":\n                light.add_light_source(\n                    k_diffuse=0.2,\n                    k_specular=gloss_intensity,\n                    shininess=400.,\n                    polar_angle=light_angle_deg,\n                    azimuth_angle=10.,\n                    color=np.array(gloss_light_color))\n\n            plotter[base_layer].shade(plotter[\"DEM_map\"], light)\n\n        plotter.plot()\n\n\n    #>>>>>>>>>>>>>>>>>>>>>>>>>>>>>>>>>>>>>>>>>>>>>>>>>>>>>>>>>>>>>>>>>>>>>>>>>>\n    # Plotting call\n    #>>>>>>>>>>>>>>>>>>>>>>>>>>>>>>>>>>>>>>>>>>>>>>>>>>>>>>>>>>>>>>>>>>>>>>>>>>\n    func(fractal,\n        calc_name,\n        _1,\n        x,\n        y,\n        dx,\n        xy_ratio,\n        theta_deg,\n        dps,\n        nx,\n        _1b,\n        has_skew,\n        skew_00,\n        skew_01,\n        skew_10,\n        skew_11,\n        _2,\n        max_iter,\n        _3,\n        eps,\n        _4,\n        base_layer,\n        interior_color,\n        colormap,\n        invert_cmap,\n        DEM_min,\n        zmin,\n        zmax,\n        _5,\n        shade_kind,\n        gloss_intensity,\n        light_angle_deg,\n        light_color,\n        gloss_light_color\n    )\n\n\nif __name__ == \"__main__\":\n    # Some magic to get the directory for plotting: with a name that matches\n    # the file or a temporary dir if we are building the documentation\n    try:\n        realpath = os.path.realpath(__file__)\n        plot_dir = os.path.splitext(realpath)[0]\n        plot(plot_dir)\n    except NameError:\n        import tempfile\n        with tempfile.TemporaryDirectory() as plot_dir:\n            fs.utils.exec_no_output(plot, plot_dir)"
      ]
    }
  ],
  "metadata": {
    "kernelspec": {
      "display_name": "Python 3",
      "language": "python",
      "name": "python3"
    },
    "language_info": {
      "codemirror_mode": {
        "name": "ipython",
        "version": 3
      },
      "file_extension": ".py",
      "mimetype": "text/x-python",
      "name": "python",
      "nbconvert_exporter": "python",
      "pygments_lexer": "ipython3",
      "version": "3.10.9"
    }
  },
  "nbformat": 4,
  "nbformat_minor": 0
}