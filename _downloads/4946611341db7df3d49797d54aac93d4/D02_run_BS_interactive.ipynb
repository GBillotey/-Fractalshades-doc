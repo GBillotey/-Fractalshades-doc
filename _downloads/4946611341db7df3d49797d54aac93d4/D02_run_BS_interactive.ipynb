{
  "cells": [
    {
      "cell_type": "code",
      "execution_count": null,
      "metadata": {
        "collapsed": false
      },
      "outputs": [],
      "source": [
        "%matplotlib inline"
      ]
    },
    {
      "cell_type": "markdown",
      "metadata": {},
      "source": [
        "\n# D02 - Burning Ship arbitrary-precision explorer\n\nThis is a template to explore the Burning Ship set with\narbitrary precision through a GUI.\nIt features the main postprocessing options (continuous\niteration, distance estimation based shading)\n\nAs the Burning ship is a non-holomorphic fractal, some areas can exibit a heavy\nskew. This explorer allows you to use an unskewing matrice and continue\nthe exploration.\nA suitable  unskew matrice is usually given by the influencing mini-ship, which\nyou can get as part of a Newton search results : right click on the image and \nselect \"Newton search\".\nWhen the skew parameters are changed, hit rerun to continue the exploration.\n\n(This class also implements Burning ship variants)\n\nGood exploration !\n\nReference:\n`fractalshades.models.Perturbation_burning_ship`\n"
      ]
    },
    {
      "cell_type": "code",
      "execution_count": null,
      "metadata": {
        "collapsed": false
      },
      "outputs": [],
      "source": [
        "import os\n\nimport fractalshades as fs\nimport fractalshades.models as fsm\nimport fractalshades.gui\nimport fractalshades.gui.guitemplates\nimport fractalshades.gui.guimodel\n\n\ndef plot(plot_dir):\n    \"\"\"\n    GUI-interactive Burning-ship deepzoom example\n    \"\"\"\n    fractal = fsm.Perturbation_burning_ship(plot_dir)\n    zooming = fs.gui.guitemplates.std_zooming(fractal)\n\n    gui = fs.gui.guimodel.Fractal_GUI(zooming)\n    gui.show()\n\n\nif __name__ == \"__main__\":\n    # Some magic to get the directory for plotting: with a name that matches\n    # the file or a temporary dir if we are building the documentation\n    try:\n        realpath = os.path.realpath(__file__)\n        plot_dir = os.path.splitext(realpath)[0]\n        plot(plot_dir)\n    except NameError:\n        import tempfile\n        with tempfile.TemporaryDirectory() as plot_dir:\n            fs.utils.exec_no_output(plot, plot_dir)"
      ]
    }
  ],
  "metadata": {
    "kernelspec": {
      "display_name": "Python 3",
      "language": "python",
      "name": "python3"
    },
    "language_info": {
      "codemirror_mode": {
        "name": "ipython",
        "version": 3
      },
      "file_extension": ".py",
      "mimetype": "text/x-python",
      "name": "python",
      "nbconvert_exporter": "python",
      "pygments_lexer": "ipython3",
      "version": "3.10.9"
    }
  },
  "nbformat": 4,
  "nbformat_minor": 0
}