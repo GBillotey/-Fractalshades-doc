{
  "cells": [
    {
      "cell_type": "markdown",
      "metadata": {},
      "source": [
        "\n# 09 - A deeper DEM example\n\nThis example shows how to create a color layer which displays a \ndistance estimation from the Mandelbrot (power 2) fractal.\n\nThe location, at 1.8e-157, is well below the separation power of double,\npertubation theory must be used. This location, \"Dinkidau flake\", is a\ncommon test for numerical reliability.\n\nReference:\n`fractalshades.models.Perturbation_mandelbrot`\n"
      ]
    },
    {
      "cell_type": "code",
      "execution_count": null,
      "metadata": {
        "collapsed": false
      },
      "outputs": [],
      "source": [
        "import os\nimport numpy as np\n\nimport fractalshades as fs\nimport fractalshades.models as fsm\nimport fractalshades.settings as settings\nimport fractalshades.colors as fscolors\nimport fractalshades.projection\n\n\nfrom fractalshades.postproc import (\n    Postproc_batch,\n    DEM_pp,\n    Continuous_iter_pp,\n    Raw_pp,\n    DEM_normal_pp,\n)\nfrom fractalshades.colors.layers import (\n    Color_layer,\n    Bool_layer,\n    Normal_map_layer,\n    Virtual_layer,\n    Blinn_lighting\n)\n\ndef plot(directory):\n    \"\"\"\n    Example plot of distance estimation method\n    \"\"\"\n    settings.enable_multithreading = True\n    # A simple showcase using perturbation technique\n    precision = 165\n    nx = 2400\n    x = '-1.99996619445037030418434688506350579675531241540724851511761922944801584242342684381376129778868913812287046406560949864353810575744772166485672496092803920095332'\n    y = '-0.00000000000000000000000000000000030013824367909383240724973039775924987346831190773335270174257280120474975614823581185647299288414075519224186504978181625478529'\n    dx = '1.7e-157'\n\n    colormap = fscolors.cmap_register[\"valensole\"]\n\n    f = fsm.Perturbation_mandelbrot(directory)\n    f.zoom(precision=precision,\n            x=x,\n            y=y,\n            dx=dx,\n            nx=nx,\n            xy_ratio=1.0,\n            theta_deg=0., \n            projection=fs.projection.Cartesian()\n    )\n\n    f.calc_std_div(\n            calc_name=\"div\",\n            subset=None,\n            max_iter=1000000,\n            M_divergence=1.e3,\n            epsilon_stationnary=1.e-3,\n            BLA_eps=1.e-8,\n            interior_detect=False\n    )\n\n\n    # Plot the image\n    pp = Postproc_batch(f, \"div\")\n    pp.add_postproc(\"potential\", Continuous_iter_pp())\n    pp.add_postproc(\"DEM\", DEM_pp())\n    pp.add_postproc(\"interior\", Raw_pp(\"stop_reason\", func=\"x != 1.\"))\n    pp.add_postproc(\"DEM_map\", DEM_normal_pp(kind=\"potential\"))\n    \n    plotter = fs.Fractal_plotter(pp, final_render=False, supersampling=\"2x2\")   \n    plotter.add_layer(Bool_layer(\"interior\", output=False))\n    plotter.add_layer(Normal_map_layer(\"DEM_map\", max_slope=35, output=False))\n    plotter.add_layer(Virtual_layer(\"potential\", func=None, output=False))\n    plotter.add_layer(Color_layer(\n            \"DEM\",\n            func=\"np.log(x)\",\n            colormap=colormap,\n            probes_z=[0., 5.0],\n            output=True\n    ))\n    plotter[\"DEM\"].set_mask(\n            plotter[\"interior\"],\n            mask_color=(0., 0., 0.)\n    )\n    plotter[\"DEM_map\"].set_mask(plotter[\"interior\"], mask_color=(0., 0., 0.))\n\n\n    # This is where we define the lighting (here 2 light sources)\n    # and apply the shading\n    light = Blinn_lighting(0.35, np.array([1., 1., 1.]))\n    light.add_light_source(\n        k_diffuse=0.0,\n        k_specular=600.,\n        shininess=200.,\n        polar_angle=75.,\n        azimuth_angle=5.,\n        color=np.array([0.9, 0.9, 0.2]))\n    light.add_light_source(\n        k_diffuse=1.9,\n        k_specular=0.,\n        shininess=400.,\n        polar_angle=75.,\n        azimuth_angle=30.,\n        color=np.array([1., 1., 1.]))\n    plotter[\"DEM\"].shade(plotter[\"DEM_map\"], light)\n\n    plotter.plot()\n\nif __name__ == \"__main__\":\n    # Some magic to get the directory for plotting: with a name that matches\n    # the file or a temporary dir if we are building the documentation\n    try:\n        realpath = os.path.realpath(__file__)\n        plot_dir = os.path.splitext(realpath)[0]\n        plot(plot_dir)\n    except NameError:\n        import tempfile\n        with tempfile.TemporaryDirectory() as plot_dir:\n            fs.utils.exec_no_output(plot, plot_dir)"
      ]
    }
  ],
  "metadata": {
    "kernelspec": {
      "display_name": "Python 3",
      "language": "python",
      "name": "python3"
    },
    "language_info": {
      "codemirror_mode": {
        "name": "ipython",
        "version": 3
      },
      "file_extension": ".py",
      "mimetype": "text/x-python",
      "name": "python",
      "nbconvert_exporter": "python",
      "pygments_lexer": "ipython3",
      "version": "3.10.12"
    }
  },
  "nbformat": 4,
  "nbformat_minor": 0
}