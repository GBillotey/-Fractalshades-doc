{
  "cells": [
    {
      "cell_type": "code",
      "execution_count": null,
      "metadata": {
        "collapsed": false
      },
      "outputs": [],
      "source": [
        "%matplotlib inline"
      ]
    },
    {
      "cell_type": "markdown",
      "metadata": {},
      "source": [
        "\n# 08 - DEM example with perturbation\n\nThis example shows how to create a color layer, displaying the \ndistance estimation for Mandelbrot (power 2) fractal.\n\nThe location, at 16.e-22, is below the reach of double, pertubation theory must\nbe used.\n\nReference:\n`fractalshades.models.Perturbation_mandelbrot`\n"
      ]
    },
    {
      "cell_type": "code",
      "execution_count": null,
      "metadata": {
        "collapsed": false
      },
      "outputs": [],
      "source": [
        "import os\n\nimport fractalshades as fs\nimport fractalshades.models as fsm\nimport fractalshades.settings as settings\nimport fractalshades.colors as fscolors\n\n\nfrom fractalshades.postproc import (\n    Postproc_batch,\n    DEM_pp,\n    Continuous_iter_pp,\n    Raw_pp,\n    DEM_normal_pp,\n    # Fieldlines_pp,\n)\nfrom fractalshades.colors.layers import (\n    Color_layer,\n    Bool_layer,\n    # Blinn_lighting,\n    # Normal_map_layer,\n    Virtual_layer,\n)\n\ndef plot(directory):\n    \"\"\"\n    Example plot of distance estimation method\n    \"\"\"\n    settings.enable_multithreading = True\n\n    # A simple showcas using perturbation technique\n    x = \"-1.768667862837488812627419470\"\n    y = \"0.001645580546820209430325900\"\n    dx = \"16.e-22\"\n    precision = 30\n    nx = 2400\n\n    colormap = fscolors.cmap_register[\"autumn\"]\n\n    f = fsm.Perturbation_mandelbrot(directory)\n    f.zoom(precision=precision,\n            x=x,\n            y=y,\n            dx=dx,\n            nx=nx,\n            xy_ratio=1.0,\n            theta_deg=0., \n            projection=fs.projection.Cartesian()\n    )\n\n    f.calc_std_div(\n            calc_name=\"div\",\n            subset=None,\n            max_iter=50000, #00,\n            M_divergence=1.e3,\n            epsilon_stationnary=1.e-3,\n            BLA_eps=1.e-6,\n            interior_detect=True,\n    )\n\n    # Plot the image\n    pp = Postproc_batch(f, \"div\")\n    pp.add_postproc(\"potential\", Continuous_iter_pp())\n    pp.add_postproc(\"DEM\", DEM_pp())\n    pp.add_postproc(\"interior\", Raw_pp(\"stop_reason\", func=\"x != 1.\"))\n    pp.add_postproc(\"DEM_map\", DEM_normal_pp(kind=\"potential\"))\n    \n    plotter = fs.Fractal_plotter(pp)   \n    plotter.add_layer(Bool_layer(\"interior\", output=False))\n    plotter.add_layer(Virtual_layer(\"potential\", func=None, output=False))\n    plotter.add_layer(Color_layer(\n            \"DEM\",\n            func=\"x\",\n            colormap=colormap,\n            probes_z=[0.01061, 0.03184],\n            output=True\n    ))\n    plotter[\"DEM\"].set_mask(\n            plotter[\"interior\"],\n            mask_color=(0., 0., 0.)\n    )\n    \n    plotter.plot()\n\nif __name__ == \"__main__\":\n    # Some magic to get the directory for plotting: with a name that matches\n    # the file or a temporary dir if we are building the documentation\n    try:\n        realpath = os.path.realpath(__file__)\n        plot_dir = os.path.splitext(realpath)[0]\n        plot(plot_dir)\n    except NameError:\n        import tempfile\n        with tempfile.TemporaryDirectory() as plot_dir:\n            fs.utils.exec_no_output(plot, plot_dir)"
      ]
    }
  ],
  "metadata": {
    "kernelspec": {
      "display_name": "Python 3",
      "language": "python",
      "name": "python3"
    },
    "language_info": {
      "codemirror_mode": {
        "name": "ipython",
        "version": 3
      },
      "file_extension": ".py",
      "mimetype": "text/x-python",
      "name": "python",
      "nbconvert_exporter": "python",
      "pygments_lexer": "ipython3",
      "version": "3.10.9"
    }
  },
  "nbformat": 4,
  "nbformat_minor": 0
}