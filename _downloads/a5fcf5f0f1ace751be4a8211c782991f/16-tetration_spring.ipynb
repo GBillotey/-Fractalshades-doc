{
  "cells": [
    {
      "cell_type": "code",
      "execution_count": null,
      "metadata": {
        "collapsed": false
      },
      "outputs": [],
      "source": [
        "%matplotlib inline"
      ]
    },
    {
      "cell_type": "markdown",
      "metadata": {},
      "source": [
        "\n# 16 - Tetration (power tower) zoom: \"Spring\"\n\nColoring based on attracting cycle order and attractivity.\nThis zoom is quite shallow however already features complex structures\n\nNote: due to the long running time and high antialising needed, this image\nhas been precomputed.\n\nReference:\n`fractalshades.models.Power_tower`\n"
      ]
    },
    {
      "cell_type": "code",
      "execution_count": null,
      "metadata": {
        "collapsed": false
      },
      "outputs": [],
      "source": [
        "import os\nimport numpy as np\n\nimport fractalshades as fs\nimport fractalshades.models as fsm\n\nimport fractalshades.colors as fscolors\nfrom fractalshades.postproc import (\n    Postproc_batch,\n    Raw_pp,\n)\nfrom fractalshades.colors.layers import (\n    Color_layer,\n    Bool_layer,\n    Virtual_layer,\n)\n\n\n\ndef plot(plot_dir):\n\n    fractal = fsm.Power_tower(plot_dir)\n    calc_name = 'test'\n\n    x = 1.4073514628685297\n    y = -3.362771439936941\n    dx = 0.0005297704717647524\n    xy_ratio = 1.8\n    theta_deg = 135.0\n\n    nx = 800\n    compute_order = True\n    max_order = 10000\n    eps_newton_cv = 1e-12\n\n    interior_color = (\n        0.40784314274787903,\n        0.5882353186607361,\n        0.2823529541492462\n    )\n    colormap = colormap = fscolors.cmap_register[\"lily\"]\n    zmin = 0.9 * 1.0376274585723877 + 0.1 * 1.2009856700897217\n    zmax = 0.3 * 1.0376274585723877 + 0.7 * 1.2009856700897217\n\n\n    fractal.zoom(x=x, y=y, dx=dx, nx=nx, xy_ratio=xy_ratio,\n         theta_deg=theta_deg, projection=\"cartesian\")\n\n    fractal.newton_calc(\n        calc_name=calc_name,\n        subset=None,\n        compute_order=compute_order,\n        max_order=max_order,\n        max_newton=20,\n        eps_newton_cv=eps_newton_cv\n    )\n\n\n    layer_name = \"cycle_order\"\n\n    pp = Postproc_batch(fractal, calc_name)\n    pp.add_postproc(layer_name, Raw_pp(\"order\"))\n    pp.add_postproc(\"attr\", Raw_pp(\"dzrdz\", func=lambda x: np.abs(x)))\n    pp.add_postproc(\"interior\", Raw_pp(\"stop_reason\",\n                    func=lambda x: x != 1)\n    )\n\n    plotter = fs.Fractal_plotter(pp)   \n    plotter.add_layer(Bool_layer(\"interior\", output=False))\n\n    plotter.add_layer(Color_layer(\n            layer_name,\n            func=lambda x: np.log(np.log(np.log(x + 1.) + 1.) + 1.),\n            colormap=colormap,\n            probes_z=[zmin, zmax],\n            output=True))\n    plotter[layer_name].set_mask(plotter[\"interior\"],\n                                 mask_color=interior_color)\n    plotter.add_layer(Virtual_layer(\"attr\", func=None, output=False))\n    \n    plotter[layer_name].set_twin_field(plotter[\"attr\"], 0.3)\n\n    plotter.plot()\n    \n    # Renaming output to match expected from the Fractal GUI\n    layer = plotter[layer_name]\n    file_name = \"{}_{}\".format(type(layer).__name__, layer.postname)\n    src_path = os.path.join(fractal.directory, file_name + \".png\")\n    dest_path = os.path.join(fractal.directory, calc_name + \".png\")\n    if os.path.isfile(dest_path):\n        os.unlink(dest_path)\n    os.link(src_path, dest_path) \n\n\ndef _plot_from_data(plot_dir):\n    # Private function only used when building fractalshades documentation\n    # This example takes too long too run to autogenerate the image for the\n    # gallery each - so just grabbing the file from the html doc static path\n    import PIL\n\n    data_path = fs.settings.output_context[\"doc_data_dir\"]\n    im = PIL.Image.open(os.path.join(data_path, \"tetration_spring.jpg\"))\n    rgb_im = im.convert('RGB')\n    tag_dict = {\"Software\": \"fractalshades \" + fs.__version__,\n                \"example_plot\": \"tetration_spring\"}\n    pnginfo = PIL.PngImagePlugin.PngInfo()\n    for k, v in tag_dict.items():\n        pnginfo.add_text(k, str(v))\n    if fs.settings.output_context[\"doc\"]:\n        fs.settings.add_figure(fs._Pillow_figure(rgb_im, pnginfo))\n    else:\n        # Should not happen\n        raise RuntimeError()\n\n\nif __name__ == \"__main__\":\n    # Some magic to get the directory for plotting: with a name that matches\n    # the file or a temporary dir if we are building the documentation\n    try:\n        realpath = os.path.realpath(__file__)\n        plot_dir = os.path.splitext(realpath)[0]\n        plot(plot_dir)\n    except NameError:\n        import tempfile\n        with tempfile.TemporaryDirectory() as plot_dir:\n            fs.utils.exec_no_output(_plot_from_data, plot_dir)"
      ]
    }
  ],
  "metadata": {
    "kernelspec": {
      "display_name": "Python 3",
      "language": "python",
      "name": "python3"
    },
    "language_info": {
      "codemirror_mode": {
        "name": "ipython",
        "version": 3
      },
      "file_extension": ".py",
      "mimetype": "text/x-python",
      "name": "python",
      "nbconvert_exporter": "python",
      "pygments_lexer": "ipython3",
      "version": "3.10.9"
    }
  },
  "nbformat": 4,
  "nbformat_minor": 0
}