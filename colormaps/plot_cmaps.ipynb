{
  "cells": [
    {
      "cell_type": "code",
      "execution_count": null,
      "metadata": {
        "collapsed": false
      },
      "outputs": [],
      "source": [
        "%matplotlib inline"
      ]
    },
    {
      "cell_type": "markdown",
      "metadata": {},
      "source": [
        "\n# Colormaps: available templates\n\nColormaps can be created either:\n - directly in batch mode,\n - or in the GUI via the colormap table editor\n - or in the GUI tool to extract a colormap from a line drawn\n   on an image\n\n\nHowever, for convenience a few colormaps templates are also available.\n\nTo list them all ::\n\n    import fractalshades.colors as fscolors\n    fscolors.cmap_register.keys()\n\nTo access one by its name ::\n\n    import fractalshades.colors as fscolors\n    fscolors.cmap_register[\"atoll\"]\n\nAttached are the auto-generated images of the colormap templates available.\n"
      ]
    },
    {
      "cell_type": "code",
      "execution_count": null,
      "metadata": {
        "collapsed": false
      },
      "outputs": [],
      "source": [
        "import os\nimport sys\n\nif sys.version_info < (3, 9):\n# See :\n# https://discuss.python.org/t/deprecating-importlib-resources-legacy-api/11386/24\n    import importlib_resources\nelse:\n    import importlib.resources as importlib_resources \n\nimport numpy as np\nimport PIL\nfrom PIL import ImageDraw, ImageFont, PngImagePlugin\n\nimport fractalshades as fs\nimport fractalshades.colors as fscolors\n\n\ndef plot_cmap(cmap_identifier, plot_dir, nx=600, ny=40):\n    cmap_register = fscolors.cmap_register\n    cmap = cmap_register[cmap_identifier]\n    B = cmap._output(nx, ny)\n\n    C = np.empty((ny * 2, nx, 3), dtype=np.uint8)\n    C [ny:, :, :] = B\n    C [:ny, :, :] = 255\n    # B[:(ny // 2), :, :] = 255\n    im = PIL.Image.fromarray(C)\n    draw = ImageDraw.Draw(im)\n\n    fs_resources = importlib_resources.files(\"fractalshades\")\n    with importlib_resources.as_file(\n        fs_resources / \"data\" / \"GidoleFont\" / \"Gidole-Regular.ttf\"\n    ) as font_file:\n        font = ImageFont.truetype(str(font_file.resolve()), size=26)\n\n    draw.text((0,0), cmap_identifier, (0, 0, 0), font=font)\n    fs.utils.mkdir_p(plot_dir)\n\n    if fs.settings.output_context[\"doc\"]:\n        tag_dict = {\"Software\": \"fractalshades \" + fs.__version__,\n                    \"colormap template\": cmap_identifier}\n        pnginfo = PngImagePlugin.PngInfo()\n        for k, v in tag_dict.items():\n            pnginfo.add_text(k, str(v))\n        fs.settings.add_figure(fs._Pillow_figure(im, pnginfo))\n\n    else:\n        im.save(os.path.join(plot_dir, cmap_identifier + \".png\"))\n\ndef plot_cmaps(plot_dir):\n    cmap_register = fscolors.cmap_register\n    for cmap_identifier in cmap_register.keys():\n        plot_cmap(cmap_identifier, plot_dir)\n\n\nif __name__ == \"__main__\":\n    # Some magic to get the directory for plotting: with a name that matches\n    # the file or a temporary dir if we are building the documentation\n    try:\n        realpath = os.path.realpath(__file__)\n        plot_dir = os.path.splitext(realpath)[0]\n        plot_cmaps(plot_dir)\n    except NameError:\n        import tempfile\n        with tempfile.TemporaryDirectory() as plot_dir:\n            fs.utils.exec_no_output(plot_cmaps, plot_dir)"
      ]
    }
  ],
  "metadata": {
    "kernelspec": {
      "display_name": "Python 3",
      "language": "python",
      "name": "python3"
    },
    "language_info": {
      "codemirror_mode": {
        "name": "ipython",
        "version": 3
      },
      "file_extension": ".py",
      "mimetype": "text/x-python",
      "name": "python",
      "nbconvert_exporter": "python",
      "pygments_lexer": "ipython3",
      "version": "3.10.9"
    }
  },
  "nbformat": 4,
  "nbformat_minor": 0
}