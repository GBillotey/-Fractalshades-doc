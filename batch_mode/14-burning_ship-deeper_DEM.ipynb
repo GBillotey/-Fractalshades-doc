{
  "cells": [
    {
      "cell_type": "code",
      "execution_count": null,
      "metadata": {
        "collapsed": false
      },
      "outputs": [],
      "source": [
        "%matplotlib inline"
      ]
    },
    {
      "cell_type": "markdown",
      "metadata": {},
      "source": [
        "\n# 14 - Burning ship deeper DEM\n\nPlotting of a distance estimation for the Burning ship (power-2).\nThis zoom is deeper, featuring a miniship at 1.e-101\n\nReference:\n`fractalshades.models.Perturbation_burning_ship`\n"
      ]
    },
    {
      "cell_type": "code",
      "execution_count": null,
      "metadata": {
        "collapsed": false
      },
      "outputs": [],
      "source": [
        "import os\nimport numpy as np\n\nimport fractalshades as fs\nimport fractalshades.models as fsm\nimport fractalshades.projection\n\nimport fractalshades.colors as fscolors\nfrom fractalshades.postproc import (\n    Postproc_batch,\n    Continuous_iter_pp,\n    DEM_normal_pp,\n    DEM_pp,\n    Raw_pp,\n)\nfrom fractalshades.colors.layers import (\n    Color_layer,\n    Bool_layer,\n    Normal_map_layer,\n    Virtual_layer,\n    Blinn_lighting,\n)\n\n\ndef plot(plot_dir):\n    fs.settings.enable_multithreading = True\n    fs.settings.inspect_calc = True\n    fs.settings.log_directory = os.path.join(plot_dir, \"log\")\n    fs.set_log_handlers(verbosity=\"debug @ console + log\")\n\n    # A simple showcase using perturbation technique\n    x = '0.533551593577038561769721161491702555962775680136595415306315189524970818968817900068355227861158570104764433694'\n    y = '1.26175074578870311547721223871955368990255513054155186351034363459852900933566891849764050954410207620093433856'\n    dx = '7.072814368784043e-101'\n    precision = 150\n    nx = 2400\n    xy_ratio = 1.8\n    \n    sign = 1.0\n    DEM_min = 5.e-5\n    zmin = -9.903487205505371\n    zmax = -4.948512077331543\n    \n    # As this formula is non-analytic, we will 'unskew' based on the \n    # influencing miniship \"size estimate\" matrix.\n    has_skew = True\n    skew_00 = 1.3141410612942215\n    skew_01 = 0.8651590600810832\n    skew_10 = 0.6372176654581702\n    skew_11 = 1.1804627997751416\n\n    calc_name=\"Burning_ship\"\n    colormap = fscolors.cmap_register[\"dawn\"]\n\n    # Run the calculation\n    f = fsm.Perturbation_burning_ship(plot_dir)\n\n    f.zoom(\n        precision=precision,\n        x=x,\n        y=y,\n        dx=dx,\n        nx=nx,\n        xy_ratio=xy_ratio,\n        theta_deg=-2., \n        projection=fs.projection.Cartesian(),\n        has_skew=has_skew,\n        skew_00=skew_00,\n        skew_01=skew_01,\n        skew_10=skew_10,\n        skew_11=skew_11\n    )\n\n    f.calc_std_div(\n        calc_name=calc_name,\n        subset=None,\n        max_iter=50000,\n        M_divergence=1.e3,\n        BLA_eps=1.e-6,\n    )\n\n    # Plot the image\n    pp = Postproc_batch(f, calc_name)\n    pp.add_postproc(\"continuous_iter\", Continuous_iter_pp())\n    pp.add_postproc(\"distance_estimation\", DEM_pp())\n    pp.add_postproc(\"interior\", Raw_pp(\"stop_reason\", func=\"x != 1.\"))\n    pp.add_postproc(\"DEM_map\", DEM_normal_pp(kind=\"potential\"))\n\n    plotter = fs.Fractal_plotter(pp)   \n    plotter.add_layer(Bool_layer(\"interior\", output=False))\n    plotter.add_layer(Normal_map_layer(\"DEM_map\", max_slope=35, output=False))\n    plotter.add_layer(\n        Virtual_layer(\"continuous_iter\", func=None, output=False)\n    )\n    \n    cmap_func = lambda x: sign * np.where(\n       np.isinf(x),\n       np.log(DEM_min),\n       np.log(np.clip(x, DEM_min, None))\n    )\n    plotter.add_layer(Color_layer(\n            \"distance_estimation\",\n            func=cmap_func,\n            colormap=colormap,\n            probes_z=[zmin, zmax],\n            output=True\n    ))\n\n    plotter[\"distance_estimation\"].set_mask(plotter[\"interior\"],\n           mask_color=(0.0, 0.22745098173618317, 0.9803921580314636))\n    plotter[\"DEM_map\"].set_mask(plotter[\"interior\"], mask_color=(0., 0., 0.))\n\n    # define the lighting and apply the shading\n    light = Blinn_lighting(0.3, np.array([1., 1., 1.]))\n    light.add_light_source(\n        k_diffuse=0.4,\n        k_specular=4.,\n        shininess=300.,\n        polar_angle=45.,\n        azimuth_angle=20.,\n        color=np.array([1.0, 1.0, 0.96]))\n\n    plotter[\"distance_estimation\"].shade(plotter[\"DEM_map\"], light)\n\n    plotter.plot()\n\n\nif __name__ == \"__main__\":\n    # Some magic to get the directory for plotting: with a name that matches\n    # the file or a temporary dir if we are building the documentation\n    try:\n        realpath = os.path.realpath(__file__)\n        plot_dir = os.path.splitext(realpath)[0]\n        plot(plot_dir)\n    except NameError:\n        import tempfile\n        with tempfile.TemporaryDirectory() as plot_dir:\n            fs.utils.exec_no_output(plot, plot_dir)"
      ]
    }
  ],
  "metadata": {
    "kernelspec": {
      "display_name": "Python 3",
      "language": "python",
      "name": "python3"
    },
    "language_info": {
      "codemirror_mode": {
        "name": "ipython",
        "version": 3
      },
      "file_extension": ".py",
      "mimetype": "text/x-python",
      "name": "python",
      "nbconvert_exporter": "python",
      "pygments_lexer": "ipython3",
      "version": "3.10.9"
    }
  },
  "nbformat": 4,
  "nbformat_minor": 0
}