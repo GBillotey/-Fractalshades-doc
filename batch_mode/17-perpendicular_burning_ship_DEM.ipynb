{
  "cells": [
    {
      "cell_type": "code",
      "execution_count": null,
      "metadata": {
        "collapsed": false
      },
      "outputs": [],
      "source": [
        "%matplotlib inline"
      ]
    },
    {
      "cell_type": "markdown",
      "metadata": {},
      "source": [
        "\n# 17 - \"Perpendicular\" Burning Ship \n\nThis variant of the Burning Ship is interesting for the variety of its shapes.\nHere some decoration around a deep mini, at a depth of 1.8e-128\n\nReference:\n`fractalshades.models.Perturbation_perpendicular_burning_ship`\n"
      ]
    },
    {
      "cell_type": "code",
      "execution_count": null,
      "metadata": {
        "collapsed": false
      },
      "outputs": [],
      "source": [
        "import os\nimport numpy as np\n\nimport fractalshades as fs\nimport fractalshades.models as fsm\n\nimport fractalshades.colors as fscolors\nfrom fractalshades.postproc import (\n    Postproc_batch,\n    Continuous_iter_pp,\n    DEM_normal_pp,\n    DEM_pp,\n    Raw_pp,\n)\nfrom fractalshades.colors.layers import (\n    Color_layer,\n    Bool_layer,\n    Normal_map_layer,\n    Virtual_layer,\n    Blinn_lighting,\n)\n\n\ndef plot(plot_dir):\n    fs.settings.enable_multithreading = True\n    fs.settings.inspect_calc = True\n\n    # A simple showcase using perturbation technique\n    calc_name = 'test'\n\n    # _1 = 'Zoom parameters'\n    x = '0.99933368699185373639022706206725770981715223678700982012404710427171219409317906966176602615220191953222863056569706047389033861855088978962654736627779241722367794435564687067'\n    y = '0.996457170505254265452116588481786614441676204699082859164552562590920318860452552741252698252881096523313551079924623070901888949263620321040269806468649035399547439554888846827'\n    dx = '1.89491419e-128'\n    xy_ratio = 1.8\n    theta_deg = -35\n    dps = 140\n    nx = 2400\n\n    # _1b = 'Skew parameters /!\\\\ Re-run when modified!'\n    has_skew = True\n    skew_00 = 0.9393449132343535\n    skew_01 = 0.34255954266629574\n    skew_10 = 0.6121690906221282\n    skew_11 = 1.287817016597985\n\n    # _2 = 'Calculation parameters'\n    max_iter = 500000\n\n    # _3 = 'Bilinear series parameters'\n    eps = 1e-06\n\n    # _4 = 'Plotting parameters: base field'\n    base_layer = 'distance_estimation'\n    interior_color = (0.6627451181411743, 0.4313725531101227, 0.0)\n    colormap = fscolors.cmap_register[\"classic\"]\n    invert_cmap = False\n    DEM_min = 1e-04\n    zmin = -9.21034049987793\n    zmax = 0.4 * (-9.21034049987793) + 0.6 * (-4.388575077056885)\n\n    # _5 = 'Plotting parameters: shading'\n    shade_kind = 'glossy'\n    gloss_intensity = 100.0\n    light_angle_deg = 35.0\n    light_color = (1.0, 1.0, 1.0)\n    gloss_light_color = (1.0, 1.0, 1.0)\n\n    # Run the calculation\n    fractal = fsm.Perturbation_burning_ship(\n            plot_dir,\n            flavor=\"Perpendicular burning ship\"\n    )\n\n    fractal.zoom(precision=dps, x=x, y=y, dx=dx, nx=nx, xy_ratio=xy_ratio,\n                 theta_deg=theta_deg, projection=\"cartesian\",\n                 has_skew=has_skew, skew_00=skew_00, skew_01=skew_01,\n                 skew_10=skew_10, skew_11=skew_11\n            )\n\n    fractal.calc_std_div(\n        calc_name=calc_name,\n        subset=None,\n        max_iter=max_iter,\n        M_divergence=1.e3,\n        BLA_eps=eps,\n    )\n\n    pp = Postproc_batch(fractal, calc_name)\n    \n    if base_layer == \"continuous_iter\":\n        pp.add_postproc(base_layer, Continuous_iter_pp())\n    elif base_layer == \"distance_estimation\":\n        pp.add_postproc(\"continuous_iter\", Continuous_iter_pp())\n        pp.add_postproc(base_layer, DEM_pp())\n\n    pp.add_postproc(\"interior\", Raw_pp(\"stop_reason\",\n                    func=lambda x: x != 1))\n    if shade_kind != \"None\":\n        pp.add_postproc(\"DEM_map\", DEM_normal_pp(kind=\"potential\"))\n\n    plotter = fs.Fractal_plotter(pp)   \n    plotter.add_layer(Bool_layer(\"interior\", output=False))\n\n    if shade_kind != \"None\":\n        plotter.add_layer(Normal_map_layer(\n            \"DEM_map\", max_slope=60, output=False\n        ))\n\n    if base_layer != 'continuous_iter':\n        plotter.add_layer(\n            Virtual_layer(\"continuous_iter\", func=None, output=False)\n        )\n\n    sign = {False: 1., True: -1.}[invert_cmap]\n    if base_layer == 'distance_estimation':\n        cmap_func = lambda x: sign * np.where(\n           np.isinf(x),\n           np.log(DEM_min),\n           np.log(np.clip(x, DEM_min, None))\n        )\n    else:\n        cmap_func = lambda x: sign * np.log(x)\n\n    plotter.add_layer(Color_layer(\n            base_layer,\n            func=cmap_func,\n            colormap=colormap,\n            probes_z=[zmin, zmax],\n            output=True))\n    plotter[base_layer].set_mask(\n        plotter[\"interior\"], mask_color=interior_color\n    )\n    if shade_kind != \"None\":\n        light = Blinn_lighting(0.6, np.array([1., 1., 1.]))\n        light.add_light_source(\n            k_diffuse=0.8,\n            k_specular=.0,\n            shininess=350.,\n            polar_angle=light_angle_deg,\n            azimuth_angle=10.,\n            color=np.array(light_color))\n\n        if shade_kind == \"glossy\":\n            light.add_light_source(\n                k_diffuse=0.2,\n                k_specular=gloss_intensity,\n                shininess=400.,\n                polar_angle=light_angle_deg,\n                azimuth_angle=10.,\n                color=np.array(gloss_light_color))\n\n        plotter[base_layer].shade(plotter[\"DEM_map\"], light)\n\n    plotter.plot()\n\n\nif __name__ == \"__main__\":\n    # Some magic to get the directory for plotting: with a name that matches\n    # the file or a temporary dir if we are building the documentation\n    try:\n        realpath = os.path.realpath(__file__)\n        plot_dir = os.path.splitext(realpath)[0]\n        plot(plot_dir)\n    except NameError:\n        import tempfile\n        with tempfile.TemporaryDirectory() as plot_dir:\n            fs.utils.exec_no_output(plot, plot_dir)"
      ]
    }
  ],
  "metadata": {
    "kernelspec": {
      "display_name": "Python 3",
      "language": "python",
      "name": "python3"
    },
    "language_info": {
      "codemirror_mode": {
        "name": "ipython",
        "version": 3
      },
      "file_extension": ".py",
      "mimetype": "text/x-python",
      "name": "python",
      "nbconvert_exporter": "python",
      "pygments_lexer": "ipython3",
      "version": "3.10.9"
    }
  },
  "nbformat": 4,
  "nbformat_minor": 0
}