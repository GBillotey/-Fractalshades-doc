{
  "cells": [
    {
      "cell_type": "markdown",
      "metadata": {},
      "source": [
        "\n# 01 - Full Mandelbrot basic example\n\nThis basic example shows how to create a color layer, displaying the \n\"continuous iteration number\" for Mandelbrot (power 2) fractal.\n\nThe full Mandelbrot set is diplayed here.\n\nReference:\n`fractalshades.models.Mandelbrot`\n"
      ]
    },
    {
      "cell_type": "code",
      "execution_count": null,
      "metadata": {
        "collapsed": false
      },
      "outputs": [],
      "source": [
        "import os\n\nimport fractalshades as fs\nimport fractalshades.models as fsm\nimport fractalshades.colors as fscolors\nimport fractalshades.projection\n\nfrom fractalshades.postproc import (\n    Postproc_batch,\n    Continuous_iter_pp,\n    Raw_pp,\n)\nfrom fractalshades.colors.layers import (\n    Color_layer,\n    Bool_layer,\n)\n\ndef plot(plot_dir):\n    \"\"\"\n    A very simple example: full view of the Mandelbrot set with escape-time\n    coloring\n    \"\"\"\n    fs.settings.enable_multithreading = False\n    fs.settings.log_directory = os.path.join(plot_dir, \"log\")\n    fs.set_log_handlers(verbosity=\"debug @ console + log\")\n    # Define the parameters for this calculation\n    x = -1.0\n    y = -0.0\n    dx = 5.\n    nx = 2400\n    \n    calc_name=\"mandelbrot\"\n    colormap = fscolors.cmap_register[\"classic\"]\n\n    # Run the calculation\n    f = fsm.Mandelbrot(plot_dir)\n    f.zoom(x=x, y=y, dx=dx, nx=nx, xy_ratio=1.0,\n           projection=fs.projection.Cartesian(),\n           theta_deg=0.)\n    f.calc_std_div(\n        calc_name=calc_name,\n        subset=None,\n        max_iter=1000,\n        M_divergence=1000.,\n        epsilon_stationnary= 0.001,\n    )\n\n    # Plot the image\n    pp = Postproc_batch(f, calc_name)\n    pp.add_postproc(\"cont_iter\", Continuous_iter_pp())\n    pp.add_postproc(\"interior\", Raw_pp(\"stop_reason\", func=\"x != 1.\"))\n\n    plotter = fs.Fractal_plotter(pp)\n    plotter.add_layer(Bool_layer(\"interior\", output=False))\n    plotter.add_layer(Color_layer(\n            \"cont_iter\",\n            func=\"np.log(x)\",\n            colormap=colormap,\n            probes_z=[1., 3.],\n            output=True\n    ))\n\n    plotter[\"cont_iter\"].set_mask(\n            plotter[\"interior\"],\n            mask_color=(0.1, 0.1, 0.1)\n    )\n\n    plotter.plot()\n\n\nif __name__ == \"__main__\":\n    # Some magic to get the directory for plotting: with a name that matches\n    # the file or a temporary dir if we are building the documentation\n    try:\n        realpath = os.path.realpath(__file__)\n        plot_dir = os.path.splitext(realpath)[0]\n        plot(plot_dir)\n    except NameError:\n        import tempfile\n        with tempfile.TemporaryDirectory() as plot_dir:\n            fs.utils.exec_no_output(plot, plot_dir)"
      ]
    }
  ],
  "metadata": {
    "kernelspec": {
      "display_name": "Python 3",
      "language": "python",
      "name": "python3"
    },
    "language_info": {
      "codemirror_mode": {
        "name": "ipython",
        "version": 3
      },
      "file_extension": ".py",
      "mimetype": "text/x-python",
      "name": "python",
      "nbconvert_exporter": "python",
      "pygments_lexer": "ipython3",
      "version": "3.10.12"
    }
  },
  "nbformat": 4,
  "nbformat_minor": 0
}