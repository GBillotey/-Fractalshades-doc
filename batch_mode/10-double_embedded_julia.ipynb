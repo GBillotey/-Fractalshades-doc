{
  "cells": [
    {
      "cell_type": "code",
      "execution_count": null,
      "metadata": {
        "collapsed": false
      },
      "outputs": [],
      "source": [
        "%matplotlib inline"
      ]
    },
    {
      "cell_type": "markdown",
      "metadata": {},
      "source": [
        "\n# 10 - Double embedded Julia set\n\nExample plot a double-embedded Julia set in mandelbrot power-2\n\nEmbedded Julia sets are structures that occur around certain minibrots.\nWhen zooming deeper in the fractal, these structures stacks and become\nmore and more complex.\n\n\nThis example even if not too deep is beyond the separation power of double\nprecision data type,\n[#f1]_, at *7e-22*. We will use a `Perturbation_mandelbrot` instance.\n\nReference:\n`fractalshades.models.Perturbation_mandelbrot`\n\n.. [#f1] **Credit:** Coordinates from Robert P. Munafo website:\n        <https://mrob.com/pub/muency/secondorderembeddedjuliase.html>\n"
      ]
    },
    {
      "cell_type": "code",
      "execution_count": null,
      "metadata": {
        "collapsed": false
      },
      "outputs": [],
      "source": [
        "import os\nimport numpy as np\n\nimport fractalshades as fs\nimport fractalshades.models as fsm\n\nimport fractalshades.colors as fscolors\nfrom fractalshades.postproc import (\n    Postproc_batch,\n    Continuous_iter_pp,\n    DEM_normal_pp,\n    Fieldlines_pp,\n    Raw_pp,\n)\nfrom fractalshades.colors.layers import (\n    Color_layer,\n    Bool_layer,\n    Normal_map_layer,\n    Virtual_layer,\n    Blinn_lighting,\n)\n\n\ndef plot(plot_dir):\n    fs.settings.enable_multithreading = True\n    fs.settings.inspect_calc = True\n\n    # A simple showcase using perturbation technique\n    x = \"-1.768667862837488812627419470\"\n    y = \"0.001645580546820209430325900\"\n    dx = \"12.e-22\"\n    precision = 30\n    nx = 2400\n    xy_ratio = 16. / 9.\n\n    calc_name=\"mandelbrot\"\n    \n    cmap_choice = 2\n    if cmap_choice == 1:\n        c3 = np.array([255, 215, 0]) / 255.\n        c0 = np.array([212, 175, 55]) / 255.\n        c1 = c0 * 0.25\n\n        colors = np.vstack((c0[np.newaxis, :],\n                            c1[np.newaxis, :],\n                            c3[np.newaxis, :]))\n        colormap = fscolors.Fractal_colormap(kinds=\"Lch\", colors=colors,\n             grad_npts=200, grad_funcs=\"x**0.5\", extent=\"mirror\")\n    elif cmap_choice == 2:\n        colormap = fscolors.cmap_register[\"classic\"]\n\n    # Run the calculation\n    f = fsm.Perturbation_mandelbrot(plot_dir)\n    f.zoom( precision=precision,\n            x=x,\n            y=y,\n            dx=dx,\n            nx=nx,\n            xy_ratio=xy_ratio,\n            theta_deg=0., \n            projection=\"cartesian\",\n    )\n\n    f.calc_std_div(\n            calc_name=calc_name,\n            subset=None,\n            max_iter=100000,\n            M_divergence=1.e3,\n            epsilon_stationnary=1.e-3,\n            BLA_eps=1.e-6,\n            interior_detect=False,\n            calc_orbit=True,\n            backshift=4\n    )\n\n    # Plot the image\n    pp = Postproc_batch(f, calc_name)\n    pp.add_postproc(\"cont_iter\", Continuous_iter_pp())\n    pp.add_postproc(\"interior\", Raw_pp(\"stop_reason\", func=\"x != 1.\"))\n    pp.add_postproc(\"DEM_map\", DEM_normal_pp(kind=\"potential\"))\n    pp.add_postproc(\"fieldlines\",\n                Fieldlines_pp(n_iter=3, swirl=0., endpoint_k=1.0))\n\n    plotter = fs.Fractal_plotter(pp)   \n    plotter.add_layer(Bool_layer(\"interior\", output=False))\n    plotter.add_layer(Normal_map_layer(\"DEM_map\", max_slope=35, output=False))\n    plotter.add_layer(Virtual_layer(\"fieldlines\", func=None, output=False))\n    plotter.add_layer(Color_layer(\n            \"cont_iter\",\n            func=\"np.log(x)\",\n            colormap=colormap,\n            probes_z=[9.015, 9.025],\n            output=True\n    ))\n\n    plotter[\"cont_iter\"].set_mask(plotter[\"interior\"], mask_color=(0., 0., 0.))\n    plotter[\"DEM_map\"].set_mask(plotter[\"interior\"], mask_color=(0., 0., 0.))\n\n    # This is the line where we indicate that coloring is a combination of\n    # \"Continuous iteration\" and \"fieldines values\"\n    plotter[\"cont_iter\"].set_twin_field(plotter[\"fieldlines\"], 0.0005)\n\n    # This is where we define the lighting (here 2 ccolored light sources)\n    # and apply the shading\n    light = Blinn_lighting(0.4, np.array([1., 1., 1.]))\n    light.add_light_source(\n        k_diffuse=0.2,\n        k_specular=10.,\n        shininess=400.,\n        polar_angle=45.,\n        azimuth_angle=20.,\n        color=np.array([0.9, 0.9, 0.9]))\n    light.add_light_source(\n        k_diffuse=0.8,\n        k_specular=0.,\n        shininess=400.,\n        polar_angle=55.,\n        azimuth_angle=20.,\n        color=np.array([1., 1., 1.]))\n    plotter[\"cont_iter\"].shade(plotter[\"DEM_map\"], light)\n    plotter.plot()\n\n\nif __name__ == \"__main__\":\n    # Some magic to get the directory for plotting: with a name that matches\n    # the file or a temporary dir if we are building the documentation\n    try:\n        realpath = os.path.realpath(__file__)\n        plot_dir = os.path.splitext(realpath)[0]\n        plot(plot_dir)\n    except NameError:\n        import tempfile\n        with tempfile.TemporaryDirectory() as plot_dir:\n            fs.utils.exec_no_output(plot, plot_dir)"
      ]
    }
  ],
  "metadata": {
    "kernelspec": {
      "display_name": "Python 3",
      "language": "python",
      "name": "python3"
    },
    "language_info": {
      "codemirror_mode": {
        "name": "ipython",
        "version": 3
      },
      "file_extension": ".py",
      "mimetype": "text/x-python",
      "name": "python",
      "nbconvert_exporter": "python",
      "pygments_lexer": "ipython3",
      "version": "3.10.9"
    }
  },
  "nbformat": 4,
  "nbformat_minor": 0
}