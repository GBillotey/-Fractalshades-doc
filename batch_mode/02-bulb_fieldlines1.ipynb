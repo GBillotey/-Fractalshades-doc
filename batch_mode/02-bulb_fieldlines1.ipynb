{
  "cells": [
    {
      "cell_type": "code",
      "execution_count": null,
      "metadata": {
        "collapsed": false
      },
      "outputs": [],
      "source": [
        "%matplotlib inline"
      ]
    },
    {
      "cell_type": "markdown",
      "metadata": {},
      "source": [
        "\n# 02 - Bulb fieldlines example \"tint_or_shade\"\n\nThis example shows one of the ways to plot fieldlines: here the fieldlines \nvalues are used to modify the original layer colors : they are tinted or\nshaded.\nNotice the use of `calc_orbit` and backshift` during the calculation.\n\nThe location is around the 1/3 main bulb.\n\nReference:\n`fractalshades.models.Mandelbrot`\n"
      ]
    },
    {
      "cell_type": "code",
      "execution_count": null,
      "metadata": {
        "collapsed": false
      },
      "outputs": [],
      "source": [
        "import os\n\nimport fractalshades as fs\nimport fractalshades.models as fsm\nimport fractalshades.colors as fscolors\nfrom fractalshades.postproc import (\n    Postproc_batch,\n    Continuous_iter_pp,\n    Fieldlines_pp,\n    Raw_pp,\n)\nfrom fractalshades.colors.layers import (\n    Color_layer,\n    Bool_layer,\n    Grey_layer,\n    Overlay_mode\n)\n\ndef plot(plot_dir):\n    \"\"\"\n    Using field lines : a shallow zoom in the Seahorses valley\n    Coloring based on continuous iteration\n    Colors 'tinted or shaded' by the fieldliles\n    \"\"\"\n    # Define the parameters for this calculation\n    x = -0.10658790036\n    y = 0.96946619217\n    dx = 0.6947111395902539\n    nx = 2400\n    projection = fs.projection.Cartesian()\n\n    calc_name=\"mandelbrot\"\n    colormap = fscolors.cmap_register[\"dawn\"]\n\n    # Run the calculation\n    f = fsm.Mandelbrot(plot_dir)\n    f.zoom(x=x, y=y, dx=dx, nx=nx, xy_ratio=1.0,\n           theta_deg=0., projection=projection)\n    f.calc_std_div(\n        calc_name=calc_name,\n        subset=None,\n        max_iter=5000,\n        M_divergence=100.,\n        epsilon_stationnary= 0.01,\n        calc_orbit=True,\n        backshift=3\n    )\n\n    # Plot the image\n    pp = Postproc_batch(f, calc_name)\n    pp.add_postproc(\"cont_iter\", Continuous_iter_pp())\n    pp.add_postproc(\"interior\", Raw_pp(\"stop_reason\", func=\"x != 1.\"))\n    pp.add_postproc(\n        \"fieldlines\",\n        Fieldlines_pp(n_iter=4, swirl=0., endpoint_k=1.0)\n    )\n\n    plotter = fs.Fractal_plotter(pp)\n    plotter.add_layer(Bool_layer(\"interior\", output=False))\n    plotter.add_layer(Color_layer(\n            \"cont_iter\",\n            func=\"np.log(x)\",\n            colormap=colormap,\n            probes_z=[0.5, 2.1],\n            output=True\n    ))\n    plotter.add_layer(\n            Grey_layer(\"fieldlines\", func=None, output=True,\n            probes_z=[-0.6281, 0.952])\n    )\n    plotter[\"cont_iter\"].set_mask(plotter[\"interior\"], mask_color=(0., 0., 0.))\n    # This is the lines where we indicate that coloring is shaded or tinted\n    # depending on \"fieldines\" values\n    overlay_mode = Overlay_mode(\"tint_or_shade\", pegtop=1.)\n    plotter[\"cont_iter\"].overlay(plotter[\"fieldlines\"], overlay_mode)\n    plotter.plot()\n\n\nif __name__ == \"__main__\":\n    # Some magic to get the directory for plotting: with a name that matches\n    # the file or a temporary dir if we are building the documentation\n    try:\n        realpath = os.path.realpath(__file__)\n        plot_dir = os.path.splitext(realpath)[0]\n        plot(plot_dir)\n    except NameError:\n        import tempfile\n        with tempfile.TemporaryDirectory() as plot_dir:\n            fs.utils.exec_no_output(plot, plot_dir)"
      ]
    }
  ],
  "metadata": {
    "kernelspec": {
      "display_name": "Python 3",
      "language": "python",
      "name": "python3"
    },
    "language_info": {
      "codemirror_mode": {
        "name": "ipython",
        "version": 3
      },
      "file_extension": ".py",
      "mimetype": "text/x-python",
      "name": "python",
      "nbconvert_exporter": "python",
      "pygments_lexer": "ipython3",
      "version": "3.10.9"
    }
  },
  "nbformat": 4,
  "nbformat_minor": 0
}