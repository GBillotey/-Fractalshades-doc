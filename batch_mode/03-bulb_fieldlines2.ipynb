{
  "cells": [
    {
      "cell_type": "code",
      "execution_count": null,
      "metadata": {
        "collapsed": false
      },
      "outputs": [],
      "source": [
        "%matplotlib inline"
      ]
    },
    {
      "cell_type": "markdown",
      "metadata": {},
      "source": [
        "\n# 03 - Bulb fieldlines example \"twinfield\"\n\nThis example shows one of the ways to plot fieldlines: here the fieldlines \nvalues are used to modify the original layer values before applying the\ncolormap.\nNotice the use of `calc_orbit` and backshift` during the calculation.\n\nThe location is around the 1/3 main bulb.\n\nReference:\n`fractalshades.models.Mandelbrot`\n"
      ]
    },
    {
      "cell_type": "code",
      "execution_count": null,
      "metadata": {
        "collapsed": false
      },
      "outputs": [],
      "source": [
        "import os\n\nimport fractalshades as fs\nimport fractalshades.models as fsm\nimport fractalshades.colors as fscolors\nfrom fractalshades.postproc import (\n    Postproc_batch,\n    Continuous_iter_pp,\n    Fieldlines_pp,\n    Raw_pp,\n)\nfrom fractalshades.colors.layers import (\n    Color_layer,\n    Bool_layer,\n    Virtual_layer\n)\n\ndef plot(plot_dir):\n    \"\"\"\n    Using field lines : a shallow zoom in the Seahorses valley\n    Coloring based on continuous iteration + fieldlines\n    \"\"\"\n    # Define the parameters for this calculation\n    x = -0.10658790036\n    y = 0.96946619217\n    dx = 0.6947111395902539\n    nx = 2400\n    projection = fs.projection.Cartesian()\n\n    calc_name=\"mandelbrot\"\n    colormap = fscolors.cmap_register[\"classic\"]\n\n    # Run the calculation\n    f = fsm.Mandelbrot(plot_dir)\n    f.zoom(x=x, y=y, dx=dx, nx=nx, xy_ratio=1.0,\n           theta_deg=0., projection=projection)\n    f.calc_std_div(\n        calc_name=calc_name,\n        subset=None,\n        max_iter=5000,\n        M_divergence=100.,\n        epsilon_stationnary= 0.001,\n        calc_orbit=True,\n        backshift=3\n    )\n\n    # Plot the image\n    pp = Postproc_batch(f, calc_name)\n    pp.add_postproc(\"cont_iter\", Continuous_iter_pp())\n    pp.add_postproc(\"interior\", Raw_pp(\"stop_reason\", func=\"x != 1.\"))\n    pp.add_postproc(\"fieldlines\",\n                Fieldlines_pp(n_iter=4, swirl=0., endpoint_k=0.8))\n\n    plotter = fs.Fractal_plotter(pp)\n    plotter.add_layer(Bool_layer(\"interior\", output=False))\n    plotter.add_layer(Color_layer(\n            \"cont_iter\",\n            func=\"np.log(x)\",\n            colormap=colormap,\n            probes_z=[0.4, 2.4],\n            output=True\n    ))\n    plotter.add_layer(Virtual_layer(\"fieldlines\", func=None, output=False))\n    plotter[\"cont_iter\"].set_mask(plotter[\"interior\"], mask_color=(0., 0., 0.))\n\n    # This is the line where we indicate that coloring is a combination of\n    # \"Continuous iteration\" and \"fieldines values\"\n    plotter[\"cont_iter\"].set_twin_field(plotter[\"fieldlines\"], -0.4)\n    plotter.plot()\n\n\nif __name__ == \"__main__\":\n    # Some magic to get the directory for plotting: with a name that matches\n    # the file or a temporary dir if we are building the documentation\n    try:\n        realpath = os.path.realpath(__file__)\n        plot_dir = os.path.splitext(realpath)[0]\n        plot(plot_dir)\n    except NameError:\n        import tempfile\n        with tempfile.TemporaryDirectory() as plot_dir:\n            fs.utils.exec_no_output(plot, plot_dir)"
      ]
    }
  ],
  "metadata": {
    "kernelspec": {
      "display_name": "Python 3",
      "language": "python",
      "name": "python3"
    },
    "language_info": {
      "codemirror_mode": {
        "name": "ipython",
        "version": 3
      },
      "file_extension": ".py",
      "mimetype": "text/x-python",
      "name": "python",
      "nbconvert_exporter": "python",
      "pygments_lexer": "ipython3",
      "version": "3.10.9"
    }
  },
  "nbformat": 4,
  "nbformat_minor": 0
}