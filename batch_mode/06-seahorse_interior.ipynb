{
  "cells": [
    {
      "cell_type": "markdown",
      "metadata": {},
      "source": [
        "\n# 06 - Seahorse interior example\n\nThis example shows how to use several layers to plot both the divergent and\nconvergent part of a fractal.\n\nThe location is a shallow one in the main Seahorse valley.\n\nReference:\n`fractalshades.models.Mandelbrot`\n"
      ]
    },
    {
      "cell_type": "code",
      "execution_count": null,
      "metadata": {
        "collapsed": false
      },
      "outputs": [],
      "source": [
        "import os\nimport numpy as np\n\nimport fractalshades as fs\nimport fractalshades.models as fsm\nimport fractalshades.colors as fscolors\nfrom fractalshades.postproc import (\n    Postproc_batch,\n    Continuous_iter_pp,\n    DEM_normal_pp,\n    Fieldlines_pp,\n    Raw_pp,\n    Fractal_array,\n    Attr_pp,\n    Attr_normal_pp\n)\nfrom fractalshades.colors.layers import (\n    Color_layer,\n    Bool_layer,\n    Normal_map_layer,\n    Grey_layer,\n    Blinn_lighting,\n    Overlay_mode\n)\n\n\ndef plot(plot_dir=None):\n    \"\"\"\n    Combining all : a shallow zoom in the Seahorses valley\n    Coloring of escaping points based on continuous iteration + lighting with a\n    normal maps from distance estimation method\n    Coloring of interior points based on the attracting cycle attractivity\n    \"\"\"\n    fs.settings.enable_multithreading = True\n    fs.settings.log_directory = os.path.join(plot_dir, \"log\")\n    fs.set_log_handlers(verbosity=\"debug @ console + log\")\n\n    # Define the parameters for this calculation\n    x = -0.746223962861\n    y = -0.0959468433527\n    dx = 0.00745\n    nx = 2400\n    fs.settings.optimize_RAM = True\n\n    calc_name=\"escaping\"\n\n    colormap = fscolors.cmap_register[\"legacy\"]\n    colormap_int = fscolors.cmap_register[\"legacy\"]\n\n    # Run the calculation\n    f = fsm.Mandelbrot(plot_dir)\n    f.zoom(x=x, y=y, dx=dx, nx=nx, xy_ratio=1.0,\n           theta_deg=0., projection=fs.projection.Cartesian())\n    f.calc_std_div(\n        calc_name=calc_name,\n        subset=None,\n        max_iter=25000,\n        M_divergence=40.,\n        epsilon_stationnary= 0.001,\n        calc_orbit=True,\n        backshift=3\n    )\n\n    # Run the calculation for the interior points\n    interior = Fractal_array(f, \"escaping\", \"stop_reason\", func= \"x != 1\")\n    f.newton_calc(\n        calc_name=\"interior\",\n        subset=interior,\n        known_orders=None,\n        max_order=1500,\n        max_newton=20,\n        eps_newton_cv=1.e-12,\n    )\n\n    # Plot the image\n    pp = Postproc_batch(f, calc_name)\n    pp.add_postproc(\"cont_iter\", Continuous_iter_pp())\n    pp.add_postproc(\"interior\", Raw_pp(\"stop_reason\", func=\"x != 1.\"))\n    #pp.add_postproc(\"div\", Raw_pp(\"stop_reason\", func=\"x == 1.\"))\n    pp.add_postproc(\"DEM_map\", DEM_normal_pp(kind=\"potential\"))\n    pp.add_postproc(\"fieldlines\",\n                Fieldlines_pp(n_iter=4, swirl=0.0, endpoint_k=0.6))\n\n    # Defines a second pastproc batch for interior points\n    pp_int = Postproc_batch(f, \"interior\")\n    pp_int.add_postproc(\"attr_map\", Attr_normal_pp())\n    pp_int.add_postproc(\"attr\", Attr_pp())\n    pp_int.add_postproc(\"div\", Raw_pp(\"stop_reason\", func=\"x == 0\"))\n\n    plotter = fs.Fractal_plotter([pp, pp_int])\n\n    plotter.add_layer(Bool_layer(\"interior\", output=False))\n    plotter.add_layer(Bool_layer(\"div\", output=False))\n    plotter.add_layer(Normal_map_layer(\"DEM_map\", max_slope=30, output=False))\n    plotter.add_layer(Normal_map_layer(\"attr_map\", max_slope=90, output=False))\n    plotter.add_layer(Color_layer(\n            \"cont_iter\",\n            func=\"np.log(x)\",\n            colormap=colormap,\n            probes_z=[1., 2.],\n            output=True\n    ))\n    plotter.add_layer(Color_layer(\n            \"attr\",\n            func=None,\n            colormap=colormap_int,\n            probes_z=[1., 2.],\n            output=False))\n    plotter.add_layer(\n        Grey_layer(\"fieldlines\", func=None,\n                   probes_z=[-2, 2],\n                   output=False)\n    )\n\n    # plotter[\"cont_iter\"].set_mask(plotter[\"interior\"], mask_color=(0., 0., 0.))\n    plotter[\"DEM_map\"].set_mask(plotter[\"interior\"], mask_color=(0., 0., 0.))\n\n    plotter[\"attr\"].set_mask(plotter[\"div\"], mask_color=(0.9568, 0.8039, 0.9372))\n\n    # This is where we define the lighting (here 3 ccolored light sources)\n    # and apply the shading\n    light = Blinn_lighting(0.35, np.array([1., 1., 1.]))\n    light.add_light_source(\n        k_diffuse=0.2,\n        k_specular=25.,\n        shininess=400.,\n        polar_angle=-135.,\n        azimuth_angle=15.,\n        color=np.array([0.05, 0.05, 1.0])\n    )\n    light.add_light_source(\n        k_diffuse=0.2,\n        k_specular=10.,\n        shininess=400.,\n        polar_angle=135.,\n        azimuth_angle=15.,\n        color=np.array([0.5, 0.5, .4])\n    )\n    light.add_light_source(\n        k_diffuse=1.3,\n        k_specular=0.,\n        shininess=0.,\n        polar_angle=90.,\n        azimuth_angle=10.,\n        color=np.array([1.0, 1.0, 1.0])\n    )\n    plotter[\"cont_iter\"].shade(plotter[\"DEM_map\"], light)\n\n    # Adds some shading based on the previouly defined normal maps\n    plotter[\"cont_iter\"].shade(plotter[\"DEM_map\"], light)\n    plotter[\"attr\"].shade(plotter[\"attr_map\"], light)\n\n    # Overlay : tint or shade depending on fieldlines layer value\n    overlay_mode = Overlay_mode(\"tint_or_shade\", pegtop=1.)\n    plotter[\"cont_iter\"].overlay(plotter[\"fieldlines\"], overlay_mode)\n\n    # Overlay : alpha composite with \"interior\" layer ie, where it is not\n    # masked, we take the value of the \"attr\" layer\n    overlay_mode = Overlay_mode(\n            \"alpha_composite\",\n            alpha_mask=plotter[\"interior\"],\n            inverse_mask=True\n    )\n    plotter[\"cont_iter\"].overlay(plotter[\"attr\"], overlay_mode=overlay_mode)\n\n    plotter.plot()\n\n\nif __name__ == \"__main__\":\n    # Some magic to get the directory for plotting: with a name that matches\n    # the file or a temporary dir if we are building the documentation\n    try:\n        realpath = os.path.realpath(__file__)\n        plot_dir = os.path.splitext(realpath)[0]\n        plot(plot_dir)\n    except NameError:\n        import tempfile\n        with tempfile.TemporaryDirectory() as plot_dir:\n            fs.utils.exec_no_output(plot, plot_dir)"
      ]
    }
  ],
  "metadata": {
    "kernelspec": {
      "display_name": "Python 3",
      "language": "python",
      "name": "python3"
    },
    "language_info": {
      "codemirror_mode": {
        "name": "ipython",
        "version": 3
      },
      "file_extension": ".py",
      "mimetype": "text/x-python",
      "name": "python",
      "nbconvert_exporter": "python",
      "pygments_lexer": "ipython3",
      "version": "3.10.12"
    }
  },
  "nbformat": 4,
  "nbformat_minor": 0
}