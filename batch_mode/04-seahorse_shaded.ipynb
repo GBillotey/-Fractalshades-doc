{
  "cells": [
    {
      "cell_type": "markdown",
      "metadata": {},
      "source": [
        "\n# 04 - Seahorse shaded example\n\nThis example shows how to create a normal map layer, and link it to a base\ncolor layer to enable scene lighting.\nHere a fully grey background is used, and the normal map layer is based on\n\"Milnor estimator\".\n\nThe location is a shallow one in the main Seahorse valley.\n\nReference:\n`fractalshades.models.Mandelbrot`\n"
      ]
    },
    {
      "cell_type": "code",
      "execution_count": null,
      "metadata": {
        "collapsed": false
      },
      "outputs": [],
      "source": [
        "import os\nimport numpy as np\n\nimport fractalshades as fs\nimport fractalshades.models as fsm\nimport fractalshades.colors as fscolors\nfrom fractalshades.postproc import (\n    Postproc_batch,\n    Continuous_iter_pp,\n    DEM_normal_pp,\n    Raw_pp,\n)\nfrom fractalshades.colors.layers import (\n    Color_layer,\n    Bool_layer,\n    Normal_map_layer,\n    Blinn_lighting\n)\n\ndef plot(plot_dir):\n    \"\"\"\n    Using lighting : a shallow zoom in the Seahorses valley\n    Coloring based on continuous iteration + lighting with a normal maps from\n    distance estimation method\n    \"\"\"\n    fs.settings.enable_multithreading = True\n    fs.settings.log_directory = os.path.join(plot_dir, \"log\")\n    fs.set_log_handlers(verbosity=\"debug @ console + log\")\n    # Define the parameters for this calculation\n    x = -0.746223962861\n    y = -0.0959468433527\n    dx = 0.00745\n    nx = 2400\n\n    calc_name=\"mandelbrot\"\n    colormap = fscolors.Fractal_colormap(\n            colors=[[0.5, 0.5, 0.5],\n                    [0.5, 0.5, 0.5]],\n            kinds=['Lab'],\n            grad_npts=[2],\n            grad_funcs=['x'],\n            extent='mirror'\n        )\n\n    # Run the calculation\n    f = fsm.Mandelbrot(plot_dir)\n    f.zoom(x=x, y=y, dx=dx, nx=nx, xy_ratio=1.0,\n           theta_deg=0., projection=fs.projection.Cartesian())\n    f.calc_std_div(\n        calc_name=calc_name,\n        subset=None,\n        max_iter=25000,\n        M_divergence=100.,\n        epsilon_stationnary= 0.01,\n        calc_d2zndc2=True\n    )\n\n    # Plot the image\n    pp = Postproc_batch(f, calc_name)\n    pp.add_postproc(\"cont_iter\", Continuous_iter_pp())\n    pp.add_postproc(\"interior\", Raw_pp(\"stop_reason\", func=\"x != 1.\"))\n    pp.add_postproc(\"DEM_map\", DEM_normal_pp(kind=\"Milnor\"))\n\n    plotter = fs.Fractal_plotter(pp)   \n    plotter.add_layer(Bool_layer(\"interior\", output=False))\n    plotter.add_layer(Normal_map_layer(\"DEM_map\", max_slope=60, output=False))\n    plotter.add_layer(Color_layer(\n            \"cont_iter\",\n            func=\"np.log(x)\",\n            colormap=colormap,\n            probes_z=[1., 2.],\n            output=True\n    ))\n\n    plotter[\"cont_iter\"].set_mask(plotter[\"interior\"], mask_color=(0., 0., 0.5))\n    plotter[\"DEM_map\"].set_mask(plotter[\"interior\"], mask_color=(0., 0., 0.))\n\n    # This is where we define the lighting (here 3 ccolored light sources)\n    # and apply the shading\n    light = Blinn_lighting(0.25, np.array([1., 1., 1.]))\n    light.add_light_source(\n        k_diffuse=3.0,\n        k_specular=0.1,\n        shininess=400.,\n        polar_angle=45.,\n        azimuth_angle=40.,\n        color=np.array([1.0, 1.0, 1.0])\n    )\n    plotter[\"cont_iter\"].shade(plotter[\"DEM_map\"], light)\n    plotter.plot()\n\n\nif __name__ == \"__main__\":\n    # Some magic to get the directory for plotting: with a name that matches\n    # the file or a temporary dir if we are building the documentation\n    try:\n        realpath = os.path.realpath(__file__)\n        plot_dir = os.path.splitext(realpath)[0]\n        plot(plot_dir)\n    except NameError:\n        import tempfile\n        with tempfile.TemporaryDirectory() as plot_dir:\n            fs.utils.exec_no_output(plot, plot_dir)"
      ]
    }
  ],
  "metadata": {
    "kernelspec": {
      "display_name": "Python 3",
      "language": "python",
      "name": "python3"
    },
    "language_info": {
      "codemirror_mode": {
        "name": "ipython",
        "version": 3
      },
      "file_extension": ".py",
      "mimetype": "text/x-python",
      "name": "python",
      "nbconvert_exporter": "python",
      "pygments_lexer": "ipython3",
      "version": "3.10.12"
    }
  },
  "nbformat": 4,
  "nbformat_minor": 0
}