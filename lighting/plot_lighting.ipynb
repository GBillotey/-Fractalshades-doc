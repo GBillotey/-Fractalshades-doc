{
  "cells": [
    {
      "cell_type": "code",
      "execution_count": null,
      "metadata": {
        "collapsed": false
      },
      "outputs": [],
      "source": [
        "%matplotlib inline"
      ]
    },
    {
      "cell_type": "markdown",
      "metadata": {},
      "source": [
        "\n# Ligthings: available effects\n\nA selection of the lightings effects which\ncan be obtained with the `fractalshades.colors.layers.Blinn_lighting` class\nand its associated GUI editor. \n"
      ]
    },
    {
      "cell_type": "code",
      "execution_count": null,
      "metadata": {
        "collapsed": false
      },
      "outputs": [],
      "source": [
        "import os\nimport sys\n\nimport numpy as np\n\n\nif sys.version_info < (3, 9):\n# See :\n# https://discuss.python.org/t/deprecating-importlib-resources-legacy-api/11386/24\n    import importlib_resources\nelse:\n    import importlib.resources as importlib_resources \n\nimport PIL\nfrom PIL import ImageDraw, ImageFont, PngImagePlugin\n\nimport fractalshades as fs\nimport fractalshades.colors as fscolors\n\n\ndef plot_lighting(lighting_identifier, plot_dir, nx=600, ny=600):\n\n    lighting = fscolors.lighting_register[lighting_identifier]\n    B = lighting._output(nx, ny)\n    B[:30, :, :] = np.minimum(255 - (255 - B[:30, :, :]) / 1.5, 255)\n    im = PIL.Image.fromarray(B)\n    draw = ImageDraw.Draw(im)\n\n    fs_resources = importlib_resources.files(\"fractalshades\")\n    with importlib_resources.as_file(\n        fs_resources / \"data\" / \"GidoleFont\" / \"Gidole-Regular.ttf\"\n    ) as font_file:\n        font = ImageFont.truetype(str(font_file.resolve()), size=26)\n\n    draw.text((0,0), lighting_identifier, (0, 0, 0), font=font)\n    fs.utils.mkdir_p(plot_dir)\n\n    if fs.settings.output_context[\"doc\"]:\n        tag_dict = {\n            \"Software\": \"fractalshades \" + fs.__version__,\n            \"lighting example\": lighting_identifier\n        }\n        pnginfo = PngImagePlugin.PngInfo()\n        for k, v in tag_dict.items():\n            pnginfo.add_text(k, str(v))\n        fs.settings.add_figure(fs._Pillow_figure(im, pnginfo))\n\n    else:\n        im.save(os.path.join(plot_dir, lighting_identifier + \".png\"))\n\ndef plot_lightings(plot_dir):\n\n    lighting_register = fscolors.lighting_register\n    for lighting_identifier in lighting_register.keys():\n        plot_lighting(lighting_identifier, plot_dir)\n\n\nif __name__ == \"__main__\":\n    # Some magic to get the directory for plotting: with a name that matches\n    # the file or a temporary dir if we are building the documentation\n    try:\n        realpath = os.path.realpath(__file__)\n        plot_dir = os.path.splitext(realpath)[0]\n        plot_lightings(plot_dir)\n    except NameError:\n        import tempfile\n        with tempfile.TemporaryDirectory() as plot_dir:\n            fs.utils.exec_no_output(plot_lightings, plot_dir)"
      ]
    }
  ],
  "metadata": {
    "kernelspec": {
      "display_name": "Python 3",
      "language": "python",
      "name": "python3"
    },
    "language_info": {
      "codemirror_mode": {
        "name": "ipython",
        "version": 3
      },
      "file_extension": ".py",
      "mimetype": "text/x-python",
      "name": "python",
      "nbconvert_exporter": "python",
      "pygments_lexer": "ipython3",
      "version": "3.10.9"
    }
  },
  "nbformat": 4,
  "nbformat_minor": 0
}